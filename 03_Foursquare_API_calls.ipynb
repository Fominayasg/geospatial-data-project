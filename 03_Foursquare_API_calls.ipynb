{
 "cells": [
  {
   "cell_type": "markdown",
   "id": "interim-bridges",
   "metadata": {},
   "source": [
    "# Collecting data from the Foursquare API"
   ]
  },
  {
   "cell_type": "markdown",
   "id": "timely-stockholm",
   "metadata": {
    "toc": true
   },
   "source": [
    "<h1>Table of Contents<span class=\"tocSkip\"></span></h1>\n",
    "<div class=\"toc\"><ul class=\"toc-item\"><li><span><a href=\"#Looking-for-Starbucks\" data-toc-modified-id=\"Looking-for-Starbucks-1\"><span class=\"toc-item-num\">1&nbsp;&nbsp;</span>Looking for Starbucks</a></span><ul class=\"toc-item\"><li><span><a href=\"#Extract-geopandas-dataframe\" data-toc-modified-id=\"Extract-geopandas-dataframe-1.1\"><span class=\"toc-item-num\">1.1&nbsp;&nbsp;</span>Extract geopandas dataframe</a></span></li><li><span><a href=\"#Convert-geodataframe-in-geojson-format\" data-toc-modified-id=\"Convert-geodataframe-in-geojson-format-1.2\"><span class=\"toc-item-num\">1.2&nbsp;&nbsp;</span>Convert geodataframe in geojson format</a></span></li><li><span><a href=\"#Discover-which-is-the-nearest-item-to-my-initial-places\" data-toc-modified-id=\"Discover-which-is-the-nearest-item-to-my-initial-places-1.3\"><span class=\"toc-item-num\">1.3&nbsp;&nbsp;</span>Discover which is the nearest item to my initial places</a></span></li></ul></li><li><span><a href=\"#Looking-for-airports\" data-toc-modified-id=\"Looking-for-airports-2\"><span class=\"toc-item-num\">2&nbsp;&nbsp;</span>Looking for airports</a></span><ul class=\"toc-item\"><li><span><a href=\"#Extract-geopandas-dataframe\" data-toc-modified-id=\"Extract-geopandas-dataframe-2.1\"><span class=\"toc-item-num\">2.1&nbsp;&nbsp;</span>Extract geopandas dataframe</a></span></li><li><span><a href=\"#Convert-geodataframe-in-geojson-format\" data-toc-modified-id=\"Convert-geodataframe-in-geojson-format-2.2\"><span class=\"toc-item-num\">2.2&nbsp;&nbsp;</span>Convert geodataframe in geojson format</a></span></li></ul></li><li><span><a href=\"#Looking-for-veterinarian-services-for-Dobby\" data-toc-modified-id=\"Looking-for-veterinarian-services-for-Dobby-3\"><span class=\"toc-item-num\">3&nbsp;&nbsp;</span>Looking for veterinarian services for Dobby</a></span></li><li><span><a href=\"#Looking-for-elementary-schools\" data-toc-modified-id=\"Looking-for-elementary-schools-4\"><span class=\"toc-item-num\">4&nbsp;&nbsp;</span>Looking for elementary schools</a></span></li><li><span><a href=\"#Looking-for-vegan-restaurant-for-the-CEO\" data-toc-modified-id=\"Looking-for-vegan-restaurant-for-the-CEO-5\"><span class=\"toc-item-num\">5&nbsp;&nbsp;</span>Looking for vegan restaurant for the CEO</a></span></li><li><span><a href=\"#Looking-for-after-COVID-possible-party-places\" data-toc-modified-id=\"Looking-for-after-COVID-possible-party-places-6\"><span class=\"toc-item-num\">6&nbsp;&nbsp;</span>Looking for after-COVID possible party places</a></span></li><li><span><a href=\"#Looking-for-a-basketball-stadium-for-the-maintenance-guy\" data-toc-modified-id=\"Looking-for-a-basketball-stadium-for-the-maintenance-guy-7\"><span class=\"toc-item-num\">7&nbsp;&nbsp;</span>Looking for a basketball stadium for the maintenance guy</a></span></li></ul></div>"
   ]
  },
  {
   "cell_type": "markdown",
   "id": "experienced-woman",
   "metadata": {},
   "source": [
    "Let's get some information from Forusquare API about all the givem requirements.\n",
    "\n",
    "This requirements are:\n",
    "\n",
    "- Designers like to go to design talks and share knowledge. There must be some nearby companies that also do design.\n",
    "- 30% of the company staff have at least 1 child.\n",
    "- Developers like to be near successful tech startups that have raised at least 1 Million dollars.\n",
    "- Executives like Starbucks A LOT. Ensure there's a starbucks not too far.\n",
    "- Account managers need to travel a lot.\n",
    "- Everyone in the company is between 25 and 40, give them some place to go party.\n",
    "- The CEO is vegan.\n",
    "- If you want to make the maintenance guy happy, a basketball stadium must be around 10 Km.\n",
    "- The office dog—\"Dobby\" needs a hairdresser every month. Ensure there's one not too far away.\n",
    "\n",
    "For that i'm using the \"api_to_geopd\" function defined in src folder on the file called foursquare.py .\n",
    "This function makes a call to the API and trasforms  de obteined data into a goepandas dataframe.\n",
    "\n",
    "After that we are going to transform each dataframe into a mongo collection because after that we want to make some geoqueries.\n",
    "\n",
    "In previous files we have researched which locations could be the best option for our company. We reached to this three options in **San Francisco, CA, USA**:\n",
    "\n",
    " **Van Ness avenue with Market Street**\n",
    " \n",
    "    loc1 = 37.77501,-122.4167646\n",
    " **2nd with Bryan Street more or les**\n",
    " \n",
    "    loc2 =37.7832303,-122.3936295\n",
    " **Motgomery St. Station**\n",
    " \n",
    "    loc3 =37.7887223,-122.4009011\n",
    "    \n",
    "    \n",
    "The three potential locations are located in San Francisco, if I don't specify th \"radius\", Foursquare API gives by default all the items limited to the city, so I can use the information of each call for all the locations."
   ]
  },
  {
   "cell_type": "code",
   "execution_count": 1,
   "id": "pregnant-internet",
   "metadata": {},
   "outputs": [],
   "source": [
    "import sys\n",
    "sys.path.append(\"../\")\n",
    "from src.foursquare import *"
   ]
  },
  {
   "cell_type": "code",
   "execution_count": 2,
   "id": "legal-steam",
   "metadata": {},
   "outputs": [],
   "source": [
    "from dotenv import load_dotenv\n",
    "import os"
   ]
  },
  {
   "cell_type": "code",
   "execution_count": 3,
   "id": "professional-hierarchy",
   "metadata": {},
   "outputs": [],
   "source": [
    "import shapely.geometry"
   ]
  },
  {
   "cell_type": "code",
   "execution_count": 4,
   "id": "immediate-witch",
   "metadata": {},
   "outputs": [],
   "source": [
    "from pymongo import MongoClient,GEOSPHERE\n",
    "client = MongoClient(\"mongodb://localhost:27017/ironhack\")"
   ]
  },
  {
   "cell_type": "markdown",
   "id": "awful-cleveland",
   "metadata": {},
   "source": [
    "*---In order to keep safe my Foursquare tokens, i store them in a separated file that it's not going to be uploaded---*"
   ]
  },
  {
   "cell_type": "code",
   "execution_count": 5,
   "id": "tropical-literacy",
   "metadata": {},
   "outputs": [],
   "source": [
    "load_dotenv()\n",
    "\n",
    "tok1 = os.getenv(\"tok1\")\n",
    "tok2 = os.getenv(\"tok2\")"
   ]
  },
  {
   "cell_type": "markdown",
   "id": "extensive-hamburg",
   "metadata": {},
   "source": [
    "## Looking for Starbucks "
   ]
  },
  {
   "cell_type": "markdown",
   "id": "matched-turning",
   "metadata": {},
   "source": [
    "### Extract geopandas dataframe"
   ]
  },
  {
   "cell_type": "code",
   "execution_count": 6,
   "id": "nonprofit-titanium",
   "metadata": {},
   "outputs": [],
   "source": [
    "starbucks= api_to_geopd (\"Starbucks\",50,tok1,tok2)"
   ]
  },
  {
   "cell_type": "code",
   "execution_count": 7,
   "id": "brown-radical",
   "metadata": {
    "scrolled": true
   },
   "outputs": [
    {
     "data": {
      "text/html": [
       "<div>\n",
       "<style scoped>\n",
       "    .dataframe tbody tr th:only-of-type {\n",
       "        vertical-align: middle;\n",
       "    }\n",
       "\n",
       "    .dataframe tbody tr th {\n",
       "        vertical-align: top;\n",
       "    }\n",
       "\n",
       "    .dataframe thead th {\n",
       "        text-align: right;\n",
       "    }\n",
       "</style>\n",
       "<table border=\"1\" class=\"dataframe\">\n",
       "  <thead>\n",
       "    <tr style=\"text-align: right;\">\n",
       "      <th></th>\n",
       "      <th>name</th>\n",
       "      <th>latitud</th>\n",
       "      <th>longitud</th>\n",
       "      <th>geometry</th>\n",
       "    </tr>\n",
       "  </thead>\n",
       "  <tbody>\n",
       "    <tr>\n",
       "      <th>0</th>\n",
       "      <td>Starbucks</td>\n",
       "      <td>37.784143</td>\n",
       "      <td>-122.407596</td>\n",
       "      <td>POINT (-122.40760 37.78414)</td>\n",
       "    </tr>\n",
       "    <tr>\n",
       "      <th>1</th>\n",
       "      <td>Starbucks</td>\n",
       "      <td>37.786170</td>\n",
       "      <td>-122.409060</td>\n",
       "      <td>POINT (-122.40906 37.78617)</td>\n",
       "    </tr>\n",
       "    <tr>\n",
       "      <th>2</th>\n",
       "      <td>Starbucks</td>\n",
       "      <td>37.789148</td>\n",
       "      <td>-122.408452</td>\n",
       "      <td>POINT (-122.40845 37.78915)</td>\n",
       "    </tr>\n",
       "  </tbody>\n",
       "</table>\n",
       "</div>"
      ],
      "text/plain": [
       "        name    latitud    longitud                     geometry\n",
       "0  Starbucks  37.784143 -122.407596  POINT (-122.40760 37.78414)\n",
       "1  Starbucks  37.786170 -122.409060  POINT (-122.40906 37.78617)\n",
       "2  Starbucks  37.789148 -122.408452  POINT (-122.40845 37.78915)"
      ]
     },
     "execution_count": 7,
     "metadata": {},
     "output_type": "execute_result"
    }
   ],
   "source": [
    "starbucks[:3]"
   ]
  },
  {
   "cell_type": "markdown",
   "id": "promotional-rough",
   "metadata": {},
   "source": [
    "### Convert geodataframe in geojson format"
   ]
  },
  {
   "cell_type": "code",
   "execution_count": 8,
   "id": "coordinate-cincinnati",
   "metadata": {
    "scrolled": true
   },
   "outputs": [
    {
     "name": "stderr",
     "output_type": "stream",
     "text": [
      "/usr/local/Caskroom/miniconda/base/envs/ironhack/lib/python3.8/site-packages/geopandas/geodataframe.py:852: UserWarning: Geometry column does not contain geometry.\n",
      "  warnings.warn(\"Geometry column does not contain geometry.\")\n"
     ]
    },
    {
     "data": {
      "text/html": [
       "<div>\n",
       "<style scoped>\n",
       "    .dataframe tbody tr th:only-of-type {\n",
       "        vertical-align: middle;\n",
       "    }\n",
       "\n",
       "    .dataframe tbody tr th {\n",
       "        vertical-align: top;\n",
       "    }\n",
       "\n",
       "    .dataframe thead th {\n",
       "        text-align: right;\n",
       "    }\n",
       "</style>\n",
       "<table border=\"1\" class=\"dataframe\">\n",
       "  <thead>\n",
       "    <tr style=\"text-align: right;\">\n",
       "      <th></th>\n",
       "      <th>name</th>\n",
       "      <th>latitud</th>\n",
       "      <th>longitud</th>\n",
       "      <th>geometry</th>\n",
       "    </tr>\n",
       "  </thead>\n",
       "  <tbody>\n",
       "    <tr>\n",
       "      <th>0</th>\n",
       "      <td>Starbucks</td>\n",
       "      <td>37.784143</td>\n",
       "      <td>-122.407596</td>\n",
       "      <td>{'type': 'Point', 'coordinates': (-122.4075961...</td>\n",
       "    </tr>\n",
       "    <tr>\n",
       "      <th>1</th>\n",
       "      <td>Starbucks</td>\n",
       "      <td>37.786170</td>\n",
       "      <td>-122.409060</td>\n",
       "      <td>{'type': 'Point', 'coordinates': (-122.40906, ...</td>\n",
       "    </tr>\n",
       "    <tr>\n",
       "      <th>2</th>\n",
       "      <td>Starbucks</td>\n",
       "      <td>37.789148</td>\n",
       "      <td>-122.408452</td>\n",
       "      <td>{'type': 'Point', 'coordinates': (-122.4084517...</td>\n",
       "    </tr>\n",
       "    <tr>\n",
       "      <th>3</th>\n",
       "      <td>Starbucks</td>\n",
       "      <td>37.784605</td>\n",
       "      <td>-122.404078</td>\n",
       "      <td>{'type': 'Point', 'coordinates': (-122.4040778...</td>\n",
       "    </tr>\n",
       "    <tr>\n",
       "      <th>4</th>\n",
       "      <td>Starbucks</td>\n",
       "      <td>37.786159</td>\n",
       "      <td>-122.405695</td>\n",
       "      <td>{'type': 'Point', 'coordinates': (-122.4056946...</td>\n",
       "    </tr>\n",
       "  </tbody>\n",
       "</table>\n",
       "</div>"
      ],
      "text/plain": [
       "        name    latitud    longitud  \\\n",
       "0  Starbucks  37.784143 -122.407596   \n",
       "1  Starbucks  37.786170 -122.409060   \n",
       "2  Starbucks  37.789148 -122.408452   \n",
       "3  Starbucks  37.784605 -122.404078   \n",
       "4  Starbucks  37.786159 -122.405695   \n",
       "\n",
       "                                            geometry  \n",
       "0  {'type': 'Point', 'coordinates': (-122.4075961...  \n",
       "1  {'type': 'Point', 'coordinates': (-122.40906, ...  \n",
       "2  {'type': 'Point', 'coordinates': (-122.4084517...  \n",
       "3  {'type': 'Point', 'coordinates': (-122.4040778...  \n",
       "4  {'type': 'Point', 'coordinates': (-122.4056946...  "
      ]
     },
     "execution_count": 8,
     "metadata": {},
     "output_type": "execute_result"
    }
   ],
   "source": [
    "gpd_to_geojson(starbucks, \"starbucks\")\n",
    "starbucks.head()"
   ]
  },
  {
   "cell_type": "markdown",
   "id": "following-recovery",
   "metadata": {},
   "source": [
    "### Discover which is the nearest item to my initial places"
   ]
  },
  {
   "cell_type": "code",
   "execution_count": 16,
   "id": "dominant-obligation",
   "metadata": {},
   "outputs": [],
   "source": [
    "loc1 = [-122.4167646,37.77501]"
   ]
  },
  {
   "cell_type": "code",
   "execution_count": 17,
   "id": "severe-seeking",
   "metadata": {},
   "outputs": [],
   "source": [
    "db=client.ironhack"
   ]
  },
  {
   "cell_type": "code",
   "execution_count": 18,
   "id": "textile-holder",
   "metadata": {},
   "outputs": [
    {
     "data": {
      "text/plain": [
       "{'_id': ObjectId('602161afa8847ab9f63b68df'),\n",
       " 'name': 'Starbucks',\n",
       " 'latitud': 37.77708998,\n",
       " 'longitud': -122.4172976,\n",
       " 'geometry': {'type': 'Point', 'coordinates': [-122.4172976, 37.77708998]}}"
      ]
     },
     "execution_count": 18,
     "metadata": {},
     "output_type": "execute_result"
    }
   ],
   "source": [
    "nearest = db.starbucks.find({\"geometry\":{\"$near\":{\"type\":\"Point\", \"coordinates\":[-122.4167646,37.77501]}}})\n",
    "list(nearest)[0]"
   ]
  },
  {
   "cell_type": "markdown",
   "id": "dependent-permit",
   "metadata": {},
   "source": [
    "## Looking for airports "
   ]
  },
  {
   "cell_type": "markdown",
   "id": "moderate-secretary",
   "metadata": {},
   "source": [
    "### Extract geopandas dataframe"
   ]
  },
  {
   "cell_type": "code",
   "execution_count": 21,
   "id": "detected-scholarship",
   "metadata": {},
   "outputs": [
    {
     "data": {
      "text/html": [
       "<div>\n",
       "<style scoped>\n",
       "    .dataframe tbody tr th:only-of-type {\n",
       "        vertical-align: middle;\n",
       "    }\n",
       "\n",
       "    .dataframe tbody tr th {\n",
       "        vertical-align: top;\n",
       "    }\n",
       "\n",
       "    .dataframe thead th {\n",
       "        text-align: right;\n",
       "    }\n",
       "</style>\n",
       "<table border=\"1\" class=\"dataframe\">\n",
       "  <thead>\n",
       "    <tr style=\"text-align: right;\">\n",
       "      <th></th>\n",
       "      <th>name</th>\n",
       "      <th>latitud</th>\n",
       "      <th>longitud</th>\n",
       "      <th>geometry</th>\n",
       "    </tr>\n",
       "  </thead>\n",
       "  <tbody>\n",
       "    <tr>\n",
       "      <th>0</th>\n",
       "      <td>San Francisco International Airport (SFO) (San...</td>\n",
       "      <td>37.616713</td>\n",
       "      <td>-122.387094</td>\n",
       "      <td>POINT (-122.38709 37.61671)</td>\n",
       "    </tr>\n",
       "  </tbody>\n",
       "</table>\n",
       "</div>"
      ],
      "text/plain": [
       "                                                name    latitud    longitud  \\\n",
       "0  San Francisco International Airport (SFO) (San...  37.616713 -122.387094   \n",
       "\n",
       "                      geometry  \n",
       "0  POINT (-122.38709 37.61671)  "
      ]
     },
     "execution_count": 21,
     "metadata": {},
     "output_type": "execute_result"
    }
   ],
   "source": [
    "airports = api_to_geopd (\"airport\",1,tok1,tok2)\n",
    "airports[:3]"
   ]
  },
  {
   "cell_type": "markdown",
   "id": "external-expense",
   "metadata": {},
   "source": [
    "### Convert geodataframe in geojson format"
   ]
  },
  {
   "cell_type": "code",
   "execution_count": 22,
   "id": "aware-softball",
   "metadata": {},
   "outputs": [
    {
     "name": "stderr",
     "output_type": "stream",
     "text": [
      "/usr/local/Caskroom/miniconda/base/envs/ironhack/lib/python3.8/site-packages/geopandas/geodataframe.py:852: UserWarning: Geometry column does not contain geometry.\n",
      "  warnings.warn(\"Geometry column does not contain geometry.\")\n"
     ]
    },
    {
     "data": {
      "text/html": [
       "<div>\n",
       "<style scoped>\n",
       "    .dataframe tbody tr th:only-of-type {\n",
       "        vertical-align: middle;\n",
       "    }\n",
       "\n",
       "    .dataframe tbody tr th {\n",
       "        vertical-align: top;\n",
       "    }\n",
       "\n",
       "    .dataframe thead th {\n",
       "        text-align: right;\n",
       "    }\n",
       "</style>\n",
       "<table border=\"1\" class=\"dataframe\">\n",
       "  <thead>\n",
       "    <tr style=\"text-align: right;\">\n",
       "      <th></th>\n",
       "      <th>name</th>\n",
       "      <th>latitud</th>\n",
       "      <th>longitud</th>\n",
       "      <th>geometry</th>\n",
       "    </tr>\n",
       "  </thead>\n",
       "  <tbody>\n",
       "    <tr>\n",
       "      <th>0</th>\n",
       "      <td>San Francisco International Airport (SFO) (San...</td>\n",
       "      <td>37.616713</td>\n",
       "      <td>-122.387094</td>\n",
       "      <td>{'type': 'Point', 'coordinates': (-122.3870944...</td>\n",
       "    </tr>\n",
       "  </tbody>\n",
       "</table>\n",
       "</div>"
      ],
      "text/plain": [
       "                                                name    latitud    longitud  \\\n",
       "0  San Francisco International Airport (SFO) (San...  37.616713 -122.387094   \n",
       "\n",
       "                                            geometry  \n",
       "0  {'type': 'Point', 'coordinates': (-122.3870944...  "
      ]
     },
     "execution_count": 22,
     "metadata": {},
     "output_type": "execute_result"
    }
   ],
   "source": [
    "gpd_to_geojson(airports, \"airports\")\n",
    "airports.head()"
   ]
  },
  {
   "cell_type": "markdown",
   "id": "integral-literacy",
   "metadata": {},
   "source": [
    "## Looking for veterinarian services for Dobby "
   ]
  },
  {
   "cell_type": "code",
   "execution_count": 26,
   "id": "organized-toddler",
   "metadata": {},
   "outputs": [
    {
     "data": {
      "text/html": [
       "<div>\n",
       "<style scoped>\n",
       "    .dataframe tbody tr th:only-of-type {\n",
       "        vertical-align: middle;\n",
       "    }\n",
       "\n",
       "    .dataframe tbody tr th {\n",
       "        vertical-align: top;\n",
       "    }\n",
       "\n",
       "    .dataframe thead th {\n",
       "        text-align: right;\n",
       "    }\n",
       "</style>\n",
       "<table border=\"1\" class=\"dataframe\">\n",
       "  <thead>\n",
       "    <tr style=\"text-align: right;\">\n",
       "      <th></th>\n",
       "      <th>name</th>\n",
       "      <th>latitud</th>\n",
       "      <th>longitud</th>\n",
       "      <th>geometry</th>\n",
       "    </tr>\n",
       "  </thead>\n",
       "  <tbody>\n",
       "    <tr>\n",
       "      <th>0</th>\n",
       "      <td>VCA All Pets Hospital</td>\n",
       "      <td>37.768920</td>\n",
       "      <td>-122.417520</td>\n",
       "      <td>POINT (-122.41752 37.76892)</td>\n",
       "    </tr>\n",
       "    <tr>\n",
       "      <th>1</th>\n",
       "      <td>VCA San Francisco Veterinary Specialists</td>\n",
       "      <td>37.761463</td>\n",
       "      <td>-122.412423</td>\n",
       "      <td>POINT (-122.41242 37.76146)</td>\n",
       "    </tr>\n",
       "    <tr>\n",
       "      <th>2</th>\n",
       "      <td>Pets Unlimited</td>\n",
       "      <td>37.791346</td>\n",
       "      <td>-122.434348</td>\n",
       "      <td>POINT (-122.43435 37.79135)</td>\n",
       "    </tr>\n",
       "  </tbody>\n",
       "</table>\n",
       "</div>"
      ],
      "text/plain": [
       "                                       name    latitud    longitud  \\\n",
       "0                     VCA All Pets Hospital  37.768920 -122.417520   \n",
       "1  VCA San Francisco Veterinary Specialists  37.761463 -122.412423   \n",
       "2                            Pets Unlimited  37.791346 -122.434348   \n",
       "\n",
       "                      geometry  \n",
       "0  POINT (-122.41752 37.76892)  \n",
       "1  POINT (-122.41242 37.76146)  \n",
       "2  POINT (-122.43435 37.79135)  "
      ]
     },
     "execution_count": 26,
     "metadata": {},
     "output_type": "execute_result"
    }
   ],
   "source": [
    "veterinary = api_to_geopd (\"veterinarian\",50,tok1,tok2)\n",
    "veterinary [:3]"
   ]
  },
  {
   "cell_type": "code",
   "execution_count": 27,
   "id": "gentle-refund",
   "metadata": {},
   "outputs": [
    {
     "name": "stderr",
     "output_type": "stream",
     "text": [
      "/usr/local/Caskroom/miniconda/base/envs/ironhack/lib/python3.8/site-packages/geopandas/geodataframe.py:852: UserWarning: Geometry column does not contain geometry.\n",
      "  warnings.warn(\"Geometry column does not contain geometry.\")\n"
     ]
    },
    {
     "data": {
      "text/html": [
       "<div>\n",
       "<style scoped>\n",
       "    .dataframe tbody tr th:only-of-type {\n",
       "        vertical-align: middle;\n",
       "    }\n",
       "\n",
       "    .dataframe tbody tr th {\n",
       "        vertical-align: top;\n",
       "    }\n",
       "\n",
       "    .dataframe thead th {\n",
       "        text-align: right;\n",
       "    }\n",
       "</style>\n",
       "<table border=\"1\" class=\"dataframe\">\n",
       "  <thead>\n",
       "    <tr style=\"text-align: right;\">\n",
       "      <th></th>\n",
       "      <th>name</th>\n",
       "      <th>latitud</th>\n",
       "      <th>longitud</th>\n",
       "      <th>geometry</th>\n",
       "    </tr>\n",
       "  </thead>\n",
       "  <tbody>\n",
       "    <tr>\n",
       "      <th>0</th>\n",
       "      <td>VCA All Pets Hospital</td>\n",
       "      <td>37.768920</td>\n",
       "      <td>-122.417520</td>\n",
       "      <td>{'type': 'Point', 'coordinates': (-122.41752, ...</td>\n",
       "    </tr>\n",
       "    <tr>\n",
       "      <th>1</th>\n",
       "      <td>VCA San Francisco Veterinary Specialists</td>\n",
       "      <td>37.761463</td>\n",
       "      <td>-122.412423</td>\n",
       "      <td>{'type': 'Point', 'coordinates': (-122.412423,...</td>\n",
       "    </tr>\n",
       "    <tr>\n",
       "      <th>2</th>\n",
       "      <td>Pets Unlimited</td>\n",
       "      <td>37.791346</td>\n",
       "      <td>-122.434348</td>\n",
       "      <td>{'type': 'Point', 'coordinates': (-122.4343484...</td>\n",
       "    </tr>\n",
       "    <tr>\n",
       "      <th>3</th>\n",
       "      <td>San Francisco SPCA Veterinary Hospital</td>\n",
       "      <td>37.766633</td>\n",
       "      <td>-122.412143</td>\n",
       "      <td>{'type': 'Point', 'coordinates': (-122.4121430...</td>\n",
       "    </tr>\n",
       "    <tr>\n",
       "      <th>4</th>\n",
       "      <td>Treat – Full Service Pet Care</td>\n",
       "      <td>37.765965</td>\n",
       "      <td>-122.411578</td>\n",
       "      <td>{'type': 'Point', 'coordinates': (-122.4115777...</td>\n",
       "    </tr>\n",
       "  </tbody>\n",
       "</table>\n",
       "</div>"
      ],
      "text/plain": [
       "                                       name    latitud    longitud  \\\n",
       "0                     VCA All Pets Hospital  37.768920 -122.417520   \n",
       "1  VCA San Francisco Veterinary Specialists  37.761463 -122.412423   \n",
       "2                            Pets Unlimited  37.791346 -122.434348   \n",
       "3    San Francisco SPCA Veterinary Hospital  37.766633 -122.412143   \n",
       "4             Treat – Full Service Pet Care  37.765965 -122.411578   \n",
       "\n",
       "                                            geometry  \n",
       "0  {'type': 'Point', 'coordinates': (-122.41752, ...  \n",
       "1  {'type': 'Point', 'coordinates': (-122.412423,...  \n",
       "2  {'type': 'Point', 'coordinates': (-122.4343484...  \n",
       "3  {'type': 'Point', 'coordinates': (-122.4121430...  \n",
       "4  {'type': 'Point', 'coordinates': (-122.4115777...  "
      ]
     },
     "execution_count": 27,
     "metadata": {},
     "output_type": "execute_result"
    }
   ],
   "source": [
    "gpd_to_geojson(veterinary, \"vet\")\n",
    "veterinary.head()"
   ]
  },
  {
   "cell_type": "markdown",
   "id": "economic-sullivan",
   "metadata": {},
   "source": [
    "## Looking for elementary schools\n",
    "Keeping in mind that 30% of the company staff have at least 1 child, and that they are between 25 and 40 I supose that the childs are in elementary school more or less."
   ]
  },
  {
   "cell_type": "code",
   "execution_count": 28,
   "id": "mysterious-canon",
   "metadata": {
    "scrolled": true
   },
   "outputs": [
    {
     "data": {
      "text/html": [
       "<div>\n",
       "<style scoped>\n",
       "    .dataframe tbody tr th:only-of-type {\n",
       "        vertical-align: middle;\n",
       "    }\n",
       "\n",
       "    .dataframe tbody tr th {\n",
       "        vertical-align: top;\n",
       "    }\n",
       "\n",
       "    .dataframe thead th {\n",
       "        text-align: right;\n",
       "    }\n",
       "</style>\n",
       "<table border=\"1\" class=\"dataframe\">\n",
       "  <thead>\n",
       "    <tr style=\"text-align: right;\">\n",
       "      <th></th>\n",
       "      <th>name</th>\n",
       "      <th>latitud</th>\n",
       "      <th>longitud</th>\n",
       "      <th>geometry</th>\n",
       "    </tr>\n",
       "  </thead>\n",
       "  <tbody>\n",
       "    <tr>\n",
       "      <th>0</th>\n",
       "      <td>Bessie Carmichael Elementary School</td>\n",
       "      <td>37.776266</td>\n",
       "      <td>-122.406351</td>\n",
       "      <td>POINT (-122.40635 37.77627)</td>\n",
       "    </tr>\n",
       "    <tr>\n",
       "      <th>1</th>\n",
       "      <td>C5 Children's School</td>\n",
       "      <td>37.778864</td>\n",
       "      <td>-122.414584</td>\n",
       "      <td>POINT (-122.41458 37.77886)</td>\n",
       "    </tr>\n",
       "    <tr>\n",
       "      <th>2</th>\n",
       "      <td>Ecole Notre Dame des Victoires</td>\n",
       "      <td>37.791159</td>\n",
       "      <td>-122.406354</td>\n",
       "      <td>POINT (-122.40635 37.79116)</td>\n",
       "    </tr>\n",
       "  </tbody>\n",
       "</table>\n",
       "</div>"
      ],
      "text/plain": [
       "                                  name    latitud    longitud  \\\n",
       "0  Bessie Carmichael Elementary School  37.776266 -122.406351   \n",
       "1                 C5 Children's School  37.778864 -122.414584   \n",
       "2       Ecole Notre Dame des Victoires  37.791159 -122.406354   \n",
       "\n",
       "                      geometry  \n",
       "0  POINT (-122.40635 37.77627)  \n",
       "1  POINT (-122.41458 37.77886)  \n",
       "2  POINT (-122.40635 37.79116)  "
      ]
     },
     "execution_count": 28,
     "metadata": {},
     "output_type": "execute_result"
    }
   ],
   "source": [
    "elementary_school = api_to_geopd (\"elementary school\",50,tok1,tok2)\n",
    "elementary_school[:3]"
   ]
  },
  {
   "cell_type": "code",
   "execution_count": 29,
   "id": "modular-birmingham",
   "metadata": {},
   "outputs": [
    {
     "name": "stderr",
     "output_type": "stream",
     "text": [
      "/usr/local/Caskroom/miniconda/base/envs/ironhack/lib/python3.8/site-packages/geopandas/geodataframe.py:852: UserWarning: Geometry column does not contain geometry.\n",
      "  warnings.warn(\"Geometry column does not contain geometry.\")\n"
     ]
    },
    {
     "data": {
      "text/html": [
       "<div>\n",
       "<style scoped>\n",
       "    .dataframe tbody tr th:only-of-type {\n",
       "        vertical-align: middle;\n",
       "    }\n",
       "\n",
       "    .dataframe tbody tr th {\n",
       "        vertical-align: top;\n",
       "    }\n",
       "\n",
       "    .dataframe thead th {\n",
       "        text-align: right;\n",
       "    }\n",
       "</style>\n",
       "<table border=\"1\" class=\"dataframe\">\n",
       "  <thead>\n",
       "    <tr style=\"text-align: right;\">\n",
       "      <th></th>\n",
       "      <th>name</th>\n",
       "      <th>latitud</th>\n",
       "      <th>longitud</th>\n",
       "      <th>geometry</th>\n",
       "    </tr>\n",
       "  </thead>\n",
       "  <tbody>\n",
       "    <tr>\n",
       "      <th>0</th>\n",
       "      <td>Bessie Carmichael Elementary School</td>\n",
       "      <td>37.776266</td>\n",
       "      <td>-122.406351</td>\n",
       "      <td>{'type': 'Point', 'coordinates': (-122.4063505...</td>\n",
       "    </tr>\n",
       "    <tr>\n",
       "      <th>1</th>\n",
       "      <td>C5 Children's School</td>\n",
       "      <td>37.778864</td>\n",
       "      <td>-122.414584</td>\n",
       "      <td>{'type': 'Point', 'coordinates': (-122.4145837...</td>\n",
       "    </tr>\n",
       "    <tr>\n",
       "      <th>2</th>\n",
       "      <td>Ecole Notre Dame des Victoires</td>\n",
       "      <td>37.791159</td>\n",
       "      <td>-122.406354</td>\n",
       "      <td>{'type': 'Point', 'coordinates': (-122.4063540...</td>\n",
       "    </tr>\n",
       "    <tr>\n",
       "      <th>3</th>\n",
       "      <td>Universal Education</td>\n",
       "      <td>37.790047</td>\n",
       "      <td>-122.400874</td>\n",
       "      <td>{'type': 'Point', 'coordinates': (-122.4008744...</td>\n",
       "    </tr>\n",
       "    <tr>\n",
       "      <th>4</th>\n",
       "      <td>Nam Kue Chinese School</td>\n",
       "      <td>37.793196</td>\n",
       "      <td>-122.405458</td>\n",
       "      <td>{'type': 'Point', 'coordinates': (-122.4054580...</td>\n",
       "    </tr>\n",
       "  </tbody>\n",
       "</table>\n",
       "</div>"
      ],
      "text/plain": [
       "                                  name    latitud    longitud  \\\n",
       "0  Bessie Carmichael Elementary School  37.776266 -122.406351   \n",
       "1                 C5 Children's School  37.778864 -122.414584   \n",
       "2       Ecole Notre Dame des Victoires  37.791159 -122.406354   \n",
       "3                  Universal Education  37.790047 -122.400874   \n",
       "4               Nam Kue Chinese School  37.793196 -122.405458   \n",
       "\n",
       "                                            geometry  \n",
       "0  {'type': 'Point', 'coordinates': (-122.4063505...  \n",
       "1  {'type': 'Point', 'coordinates': (-122.4145837...  \n",
       "2  {'type': 'Point', 'coordinates': (-122.4063540...  \n",
       "3  {'type': 'Point', 'coordinates': (-122.4008744...  \n",
       "4  {'type': 'Point', 'coordinates': (-122.4054580...  "
      ]
     },
     "execution_count": 29,
     "metadata": {},
     "output_type": "execute_result"
    }
   ],
   "source": [
    "gpd_to_geojson(elementary_school, \"schools\")\n",
    "elementary_school.head()"
   ]
  },
  {
   "cell_type": "markdown",
   "id": "everyday-identifier",
   "metadata": {},
   "source": [
    "## Looking for vegan restaurant for the CEO"
   ]
  },
  {
   "cell_type": "code",
   "execution_count": 30,
   "id": "removable-terminal",
   "metadata": {},
   "outputs": [
    {
     "data": {
      "text/html": [
       "<div>\n",
       "<style scoped>\n",
       "    .dataframe tbody tr th:only-of-type {\n",
       "        vertical-align: middle;\n",
       "    }\n",
       "\n",
       "    .dataframe tbody tr th {\n",
       "        vertical-align: top;\n",
       "    }\n",
       "\n",
       "    .dataframe thead th {\n",
       "        text-align: right;\n",
       "    }\n",
       "</style>\n",
       "<table border=\"1\" class=\"dataframe\">\n",
       "  <thead>\n",
       "    <tr style=\"text-align: right;\">\n",
       "      <th></th>\n",
       "      <th>name</th>\n",
       "      <th>latitud</th>\n",
       "      <th>longitud</th>\n",
       "      <th>geometry</th>\n",
       "    </tr>\n",
       "  </thead>\n",
       "  <tbody>\n",
       "    <tr>\n",
       "      <th>0</th>\n",
       "      <td>The Flying Falafel</td>\n",
       "      <td>37.781323</td>\n",
       "      <td>-122.411138</td>\n",
       "      <td>POINT (-122.41114 37.78132)</td>\n",
       "    </tr>\n",
       "    <tr>\n",
       "      <th>1</th>\n",
       "      <td>Mixt</td>\n",
       "      <td>37.785751</td>\n",
       "      <td>-122.404124</td>\n",
       "      <td>POINT (-122.40412 37.78575)</td>\n",
       "    </tr>\n",
       "    <tr>\n",
       "      <th>2</th>\n",
       "      <td>Golden Era Vegan</td>\n",
       "      <td>37.781495</td>\n",
       "      <td>-122.416822</td>\n",
       "      <td>POINT (-122.41682 37.78149)</td>\n",
       "    </tr>\n",
       "  </tbody>\n",
       "</table>\n",
       "</div>"
      ],
      "text/plain": [
       "                 name    latitud    longitud                     geometry\n",
       "0  The Flying Falafel  37.781323 -122.411138  POINT (-122.41114 37.78132)\n",
       "1                Mixt  37.785751 -122.404124  POINT (-122.40412 37.78575)\n",
       "2    Golden Era Vegan  37.781495 -122.416822  POINT (-122.41682 37.78149)"
      ]
     },
     "execution_count": 30,
     "metadata": {},
     "output_type": "execute_result"
    }
   ],
   "source": [
    "vegan = api_to_geopd (\"vegan restaurant\",50,tok1,tok2)\n",
    "vegan[:3]"
   ]
  },
  {
   "cell_type": "code",
   "execution_count": 31,
   "id": "promotional-camel",
   "metadata": {},
   "outputs": [
    {
     "name": "stderr",
     "output_type": "stream",
     "text": [
      "/usr/local/Caskroom/miniconda/base/envs/ironhack/lib/python3.8/site-packages/geopandas/geodataframe.py:852: UserWarning: Geometry column does not contain geometry.\n",
      "  warnings.warn(\"Geometry column does not contain geometry.\")\n"
     ]
    },
    {
     "data": {
      "text/html": [
       "<div>\n",
       "<style scoped>\n",
       "    .dataframe tbody tr th:only-of-type {\n",
       "        vertical-align: middle;\n",
       "    }\n",
       "\n",
       "    .dataframe tbody tr th {\n",
       "        vertical-align: top;\n",
       "    }\n",
       "\n",
       "    .dataframe thead th {\n",
       "        text-align: right;\n",
       "    }\n",
       "</style>\n",
       "<table border=\"1\" class=\"dataframe\">\n",
       "  <thead>\n",
       "    <tr style=\"text-align: right;\">\n",
       "      <th></th>\n",
       "      <th>name</th>\n",
       "      <th>latitud</th>\n",
       "      <th>longitud</th>\n",
       "      <th>geometry</th>\n",
       "    </tr>\n",
       "  </thead>\n",
       "  <tbody>\n",
       "    <tr>\n",
       "      <th>0</th>\n",
       "      <td>The Flying Falafel</td>\n",
       "      <td>37.781323</td>\n",
       "      <td>-122.411138</td>\n",
       "      <td>{'type': 'Point', 'coordinates': (-122.411138,...</td>\n",
       "    </tr>\n",
       "    <tr>\n",
       "      <th>1</th>\n",
       "      <td>Mixt</td>\n",
       "      <td>37.785751</td>\n",
       "      <td>-122.404124</td>\n",
       "      <td>{'type': 'Point', 'coordinates': (-122.4041237...</td>\n",
       "    </tr>\n",
       "    <tr>\n",
       "      <th>2</th>\n",
       "      <td>Golden Era Vegan</td>\n",
       "      <td>37.781495</td>\n",
       "      <td>-122.416822</td>\n",
       "      <td>{'type': 'Point', 'coordinates': (-122.4168223...</td>\n",
       "    </tr>\n",
       "    <tr>\n",
       "      <th>3</th>\n",
       "      <td>Ananda Fuara</td>\n",
       "      <td>37.777693</td>\n",
       "      <td>-122.416353</td>\n",
       "      <td>{'type': 'Point', 'coordinates': (-122.4163533...</td>\n",
       "    </tr>\n",
       "    <tr>\n",
       "      <th>4</th>\n",
       "      <td>Mr.East Kitchen</td>\n",
       "      <td>37.780452</td>\n",
       "      <td>-122.403781</td>\n",
       "      <td>{'type': 'Point', 'coordinates': (-122.4037810...</td>\n",
       "    </tr>\n",
       "  </tbody>\n",
       "</table>\n",
       "</div>"
      ],
      "text/plain": [
       "                 name    latitud    longitud  \\\n",
       "0  The Flying Falafel  37.781323 -122.411138   \n",
       "1                Mixt  37.785751 -122.404124   \n",
       "2    Golden Era Vegan  37.781495 -122.416822   \n",
       "3        Ananda Fuara  37.777693 -122.416353   \n",
       "4     Mr.East Kitchen  37.780452 -122.403781   \n",
       "\n",
       "                                            geometry  \n",
       "0  {'type': 'Point', 'coordinates': (-122.411138,...  \n",
       "1  {'type': 'Point', 'coordinates': (-122.4041237...  \n",
       "2  {'type': 'Point', 'coordinates': (-122.4168223...  \n",
       "3  {'type': 'Point', 'coordinates': (-122.4163533...  \n",
       "4  {'type': 'Point', 'coordinates': (-122.4037810...  "
      ]
     },
     "execution_count": 31,
     "metadata": {},
     "output_type": "execute_result"
    }
   ],
   "source": [
    "gpd_to_geojson(vegan, \"vegan\")\n",
    "vegan.head()"
   ]
  },
  {
   "cell_type": "markdown",
   "id": "grave-establishment",
   "metadata": {},
   "source": [
    "## Looking for after-COVID possible party places"
   ]
  },
  {
   "cell_type": "code",
   "execution_count": 32,
   "id": "impossible-accommodation",
   "metadata": {
    "scrolled": true
   },
   "outputs": [
    {
     "data": {
      "text/html": [
       "<div>\n",
       "<style scoped>\n",
       "    .dataframe tbody tr th:only-of-type {\n",
       "        vertical-align: middle;\n",
       "    }\n",
       "\n",
       "    .dataframe tbody tr th {\n",
       "        vertical-align: top;\n",
       "    }\n",
       "\n",
       "    .dataframe thead th {\n",
       "        text-align: right;\n",
       "    }\n",
       "</style>\n",
       "<table border=\"1\" class=\"dataframe\">\n",
       "  <thead>\n",
       "    <tr style=\"text-align: right;\">\n",
       "      <th></th>\n",
       "      <th>name</th>\n",
       "      <th>latitud</th>\n",
       "      <th>longitud</th>\n",
       "      <th>geometry</th>\n",
       "    </tr>\n",
       "  </thead>\n",
       "  <tbody>\n",
       "    <tr>\n",
       "      <th>0</th>\n",
       "      <td>OMG!</td>\n",
       "      <td>37.780625</td>\n",
       "      <td>-122.409168</td>\n",
       "      <td>POINT (-122.40917 37.78063)</td>\n",
       "    </tr>\n",
       "    <tr>\n",
       "      <th>1</th>\n",
       "      <td>Monarch</td>\n",
       "      <td>37.781002</td>\n",
       "      <td>-122.408555</td>\n",
       "      <td>POINT (-122.40856 37.78100)</td>\n",
       "    </tr>\n",
       "    <tr>\n",
       "      <th>2</th>\n",
       "      <td>Pura Club</td>\n",
       "      <td>37.778240</td>\n",
       "      <td>-122.405774</td>\n",
       "      <td>POINT (-122.40577 37.77824)</td>\n",
       "    </tr>\n",
       "  </tbody>\n",
       "</table>\n",
       "</div>"
      ],
      "text/plain": [
       "        name    latitud    longitud                     geometry\n",
       "0       OMG!  37.780625 -122.409168  POINT (-122.40917 37.78063)\n",
       "1    Monarch  37.781002 -122.408555  POINT (-122.40856 37.78100)\n",
       "2  Pura Club  37.778240 -122.405774  POINT (-122.40577 37.77824)"
      ]
     },
     "execution_count": 32,
     "metadata": {},
     "output_type": "execute_result"
    }
   ],
   "source": [
    "nightclub = api_to_geopd (\"nightclub\",50,tok1,tok2)\n",
    "nightclub[:3]"
   ]
  },
  {
   "cell_type": "code",
   "execution_count": 33,
   "id": "minute-device",
   "metadata": {},
   "outputs": [
    {
     "name": "stderr",
     "output_type": "stream",
     "text": [
      "/usr/local/Caskroom/miniconda/base/envs/ironhack/lib/python3.8/site-packages/geopandas/geodataframe.py:852: UserWarning: Geometry column does not contain geometry.\n",
      "  warnings.warn(\"Geometry column does not contain geometry.\")\n"
     ]
    },
    {
     "data": {
      "text/html": [
       "<div>\n",
       "<style scoped>\n",
       "    .dataframe tbody tr th:only-of-type {\n",
       "        vertical-align: middle;\n",
       "    }\n",
       "\n",
       "    .dataframe tbody tr th {\n",
       "        vertical-align: top;\n",
       "    }\n",
       "\n",
       "    .dataframe thead th {\n",
       "        text-align: right;\n",
       "    }\n",
       "</style>\n",
       "<table border=\"1\" class=\"dataframe\">\n",
       "  <thead>\n",
       "    <tr style=\"text-align: right;\">\n",
       "      <th></th>\n",
       "      <th>name</th>\n",
       "      <th>latitud</th>\n",
       "      <th>longitud</th>\n",
       "      <th>geometry</th>\n",
       "    </tr>\n",
       "  </thead>\n",
       "  <tbody>\n",
       "    <tr>\n",
       "      <th>0</th>\n",
       "      <td>OMG!</td>\n",
       "      <td>37.780625</td>\n",
       "      <td>-122.409168</td>\n",
       "      <td>{'type': 'Point', 'coordinates': (-122.4091679...</td>\n",
       "    </tr>\n",
       "    <tr>\n",
       "      <th>1</th>\n",
       "      <td>Monarch</td>\n",
       "      <td>37.781002</td>\n",
       "      <td>-122.408555</td>\n",
       "      <td>{'type': 'Point', 'coordinates': (-122.4085554...</td>\n",
       "    </tr>\n",
       "    <tr>\n",
       "      <th>2</th>\n",
       "      <td>Pura Club</td>\n",
       "      <td>37.778240</td>\n",
       "      <td>-122.405774</td>\n",
       "      <td>{'type': 'Point', 'coordinates': (-122.4057742...</td>\n",
       "    </tr>\n",
       "    <tr>\n",
       "      <th>3</th>\n",
       "      <td>Cat Club</td>\n",
       "      <td>37.775324</td>\n",
       "      <td>-122.409901</td>\n",
       "      <td>{'type': 'Point', 'coordinates': (-122.4099007...</td>\n",
       "    </tr>\n",
       "    <tr>\n",
       "      <th>4</th>\n",
       "      <td>F8 | 1192 Folsom</td>\n",
       "      <td>37.775260</td>\n",
       "      <td>-122.409973</td>\n",
       "      <td>{'type': 'Point', 'coordinates': (-122.4099730...</td>\n",
       "    </tr>\n",
       "  </tbody>\n",
       "</table>\n",
       "</div>"
      ],
      "text/plain": [
       "               name    latitud    longitud  \\\n",
       "0              OMG!  37.780625 -122.409168   \n",
       "1           Monarch  37.781002 -122.408555   \n",
       "2         Pura Club  37.778240 -122.405774   \n",
       "3          Cat Club  37.775324 -122.409901   \n",
       "4  F8 | 1192 Folsom  37.775260 -122.409973   \n",
       "\n",
       "                                            geometry  \n",
       "0  {'type': 'Point', 'coordinates': (-122.4091679...  \n",
       "1  {'type': 'Point', 'coordinates': (-122.4085554...  \n",
       "2  {'type': 'Point', 'coordinates': (-122.4057742...  \n",
       "3  {'type': 'Point', 'coordinates': (-122.4099007...  \n",
       "4  {'type': 'Point', 'coordinates': (-122.4099730...  "
      ]
     },
     "execution_count": 33,
     "metadata": {},
     "output_type": "execute_result"
    }
   ],
   "source": [
    "gpd_to_geojson(nightclub, \"party\")\n",
    "nightclub.head()"
   ]
  },
  {
   "cell_type": "markdown",
   "id": "herbal-cooperation",
   "metadata": {},
   "source": [
    "## Looking for a basketball stadium for the maintenance guy"
   ]
  },
  {
   "cell_type": "code",
   "execution_count": 34,
   "id": "hydraulic-optimum",
   "metadata": {
    "scrolled": true
   },
   "outputs": [
    {
     "data": {
      "text/html": [
       "<div>\n",
       "<style scoped>\n",
       "    .dataframe tbody tr th:only-of-type {\n",
       "        vertical-align: middle;\n",
       "    }\n",
       "\n",
       "    .dataframe tbody tr th {\n",
       "        vertical-align: top;\n",
       "    }\n",
       "\n",
       "    .dataframe thead th {\n",
       "        text-align: right;\n",
       "    }\n",
       "</style>\n",
       "<table border=\"1\" class=\"dataframe\">\n",
       "  <thead>\n",
       "    <tr style=\"text-align: right;\">\n",
       "      <th></th>\n",
       "      <th>name</th>\n",
       "      <th>latitud</th>\n",
       "      <th>longitud</th>\n",
       "      <th>geometry</th>\n",
       "    </tr>\n",
       "  </thead>\n",
       "  <tbody>\n",
       "    <tr>\n",
       "      <th>0</th>\n",
       "      <td>Chase Center</td>\n",
       "      <td>37.767864</td>\n",
       "      <td>-122.387463</td>\n",
       "      <td>POINT (-122.38746 37.76786)</td>\n",
       "    </tr>\n",
       "    <tr>\n",
       "      <th>1</th>\n",
       "      <td>Google Cloud Courtside Lounge 25</td>\n",
       "      <td>37.768231</td>\n",
       "      <td>-122.387730</td>\n",
       "      <td>POINT (-122.38773 37.76823)</td>\n",
       "    </tr>\n",
       "    <tr>\n",
       "      <th>2</th>\n",
       "      <td>United Club</td>\n",
       "      <td>37.767808</td>\n",
       "      <td>-122.387302</td>\n",
       "      <td>POINT (-122.38730 37.76781)</td>\n",
       "    </tr>\n",
       "  </tbody>\n",
       "</table>\n",
       "</div>"
      ],
      "text/plain": [
       "                               name    latitud    longitud  \\\n",
       "0                      Chase Center  37.767864 -122.387463   \n",
       "1  Google Cloud Courtside Lounge 25  37.768231 -122.387730   \n",
       "2                       United Club  37.767808 -122.387302   \n",
       "\n",
       "                      geometry  \n",
       "0  POINT (-122.38746 37.76786)  \n",
       "1  POINT (-122.38773 37.76823)  \n",
       "2  POINT (-122.38730 37.76781)  "
      ]
     },
     "execution_count": 34,
     "metadata": {},
     "output_type": "execute_result"
    }
   ],
   "source": [
    "basketball = api_to_geopd (\"basketball stadium\",5,tok1,tok2)\n",
    "basketball"
   ]
  },
  {
   "cell_type": "code",
   "execution_count": 35,
   "id": "incomplete-newspaper",
   "metadata": {},
   "outputs": [
    {
     "name": "stderr",
     "output_type": "stream",
     "text": [
      "/usr/local/Caskroom/miniconda/base/envs/ironhack/lib/python3.8/site-packages/geopandas/geodataframe.py:852: UserWarning: Geometry column does not contain geometry.\n",
      "  warnings.warn(\"Geometry column does not contain geometry.\")\n"
     ]
    },
    {
     "data": {
      "text/html": [
       "<div>\n",
       "<style scoped>\n",
       "    .dataframe tbody tr th:only-of-type {\n",
       "        vertical-align: middle;\n",
       "    }\n",
       "\n",
       "    .dataframe tbody tr th {\n",
       "        vertical-align: top;\n",
       "    }\n",
       "\n",
       "    .dataframe thead th {\n",
       "        text-align: right;\n",
       "    }\n",
       "</style>\n",
       "<table border=\"1\" class=\"dataframe\">\n",
       "  <thead>\n",
       "    <tr style=\"text-align: right;\">\n",
       "      <th></th>\n",
       "      <th>name</th>\n",
       "      <th>latitud</th>\n",
       "      <th>longitud</th>\n",
       "      <th>geometry</th>\n",
       "    </tr>\n",
       "  </thead>\n",
       "  <tbody>\n",
       "    <tr>\n",
       "      <th>0</th>\n",
       "      <td>Chase Center</td>\n",
       "      <td>37.767864</td>\n",
       "      <td>-122.387463</td>\n",
       "      <td>{'type': 'Point', 'coordinates': (-122.387463,...</td>\n",
       "    </tr>\n",
       "    <tr>\n",
       "      <th>1</th>\n",
       "      <td>Google Cloud Courtside Lounge 25</td>\n",
       "      <td>37.768231</td>\n",
       "      <td>-122.387730</td>\n",
       "      <td>{'type': 'Point', 'coordinates': (-122.38773, ...</td>\n",
       "    </tr>\n",
       "    <tr>\n",
       "      <th>2</th>\n",
       "      <td>United Club</td>\n",
       "      <td>37.767808</td>\n",
       "      <td>-122.387302</td>\n",
       "      <td>{'type': 'Point', 'coordinates': (-122.387302,...</td>\n",
       "    </tr>\n",
       "  </tbody>\n",
       "</table>\n",
       "</div>"
      ],
      "text/plain": [
       "                               name    latitud    longitud  \\\n",
       "0                      Chase Center  37.767864 -122.387463   \n",
       "1  Google Cloud Courtside Lounge 25  37.768231 -122.387730   \n",
       "2                       United Club  37.767808 -122.387302   \n",
       "\n",
       "                                            geometry  \n",
       "0  {'type': 'Point', 'coordinates': (-122.387463,...  \n",
       "1  {'type': 'Point', 'coordinates': (-122.38773, ...  \n",
       "2  {'type': 'Point', 'coordinates': (-122.387302,...  "
      ]
     },
     "execution_count": 35,
     "metadata": {},
     "output_type": "execute_result"
    }
   ],
   "source": [
    "gpd_to_geojson(basketball, \"basket_stadiums\")\n",
    "basketball.head()"
   ]
  }
 ],
 "metadata": {
  "kernelspec": {
   "display_name": "Python 3",
   "language": "python",
   "name": "python3"
  },
  "language_info": {
   "codemirror_mode": {
    "name": "ipython",
    "version": 3
   },
   "file_extension": ".py",
   "mimetype": "text/x-python",
   "name": "python",
   "nbconvert_exporter": "python",
   "pygments_lexer": "ipython3",
   "version": "3.8.5"
  },
  "toc": {
   "base_numbering": 1,
   "nav_menu": {},
   "number_sections": true,
   "sideBar": true,
   "skip_h1_title": true,
   "title_cell": "Table of Contents",
   "title_sidebar": "Contents",
   "toc_cell": true,
   "toc_position": {},
   "toc_section_display": true,
   "toc_window_display": true
  },
  "varInspector": {
   "cols": {
    "lenName": 16,
    "lenType": 16,
    "lenVar": 40
   },
   "kernels_config": {
    "python": {
     "delete_cmd_postfix": "",
     "delete_cmd_prefix": "del ",
     "library": "var_list.py",
     "varRefreshCmd": "print(var_dic_list())"
    },
    "r": {
     "delete_cmd_postfix": ") ",
     "delete_cmd_prefix": "rm(",
     "library": "var_list.r",
     "varRefreshCmd": "cat(var_dic_list()) "
    }
   },
   "types_to_exclude": [
    "module",
    "function",
    "builtin_function_or_method",
    "instance",
    "_Feature"
   ],
   "window_display": false
  }
 },
 "nbformat": 4,
 "nbformat_minor": 5
}
