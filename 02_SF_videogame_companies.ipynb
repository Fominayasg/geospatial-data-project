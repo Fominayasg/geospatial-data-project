{
 "cells": [
  {
   "cell_type": "markdown",
   "id": "democratic-cedar",
   "metadata": {
    "toc": true
   },
   "source": [
    "<h1>Table of Contents<span class=\"tocSkip\"></span></h1>\n",
    "<div class=\"toc\"><ul class=\"toc-item\"><li><span><a href=\"#Mongo-request\" data-toc-modified-id=\"Mongo-request-1\"><span class=\"toc-item-num\">1&nbsp;&nbsp;</span>Mongo request</a></span></li><li><span><a href=\"#Dataframe-cleaning\" data-toc-modified-id=\"Dataframe-cleaning-2\"><span class=\"toc-item-num\">2&nbsp;&nbsp;</span>Dataframe cleaning</a></span></li><li><span><a href=\"#Map-visualization\" data-toc-modified-id=\"Map-visualization-3\"><span class=\"toc-item-num\">3&nbsp;&nbsp;</span>Map visualization</a></span></li></ul></div>"
   ]
  },
  {
   "cell_type": "markdown",
   "id": "educational-silence",
   "metadata": {},
   "source": [
    "# San Francisco videogame companies"
   ]
  },
  {
   "cell_type": "markdown",
   "id": "consecutive-chosen",
   "metadata": {},
   "source": [
    "Most of our teams are developers and designers, we want to make them comfortable so it is important to consider their preferences.\n",
    "That's why we are going to place the office in a zone where there are other emergent videogame companies that have rised at least 1 milliondollars. Moreover, focusing on videogame companies instead of any tech companies, we ensure that they also have designing interests so if they organize talks on the subject, it would be easy for our designers to attend. "
   ]
  },
  {
   "cell_type": "markdown",
   "id": "choice-polish",
   "metadata": {},
   "source": [
    "We are going to use Mongodb \"companies\"."
   ]
  },
  {
   "cell_type": "code",
   "execution_count": 1,
   "id": "suited-bouquet",
   "metadata": {},
   "outputs": [],
   "source": [
    "\n",
    "from pymongo import MongoClient\n",
    "client = MongoClient(\"mongodb://localhost:27017/ironhack\")\n",
    "db = client.get_database()"
   ]
  },
  {
   "cell_type": "code",
   "execution_count": 12,
   "id": "generic-samoa",
   "metadata": {},
   "outputs": [],
   "source": [
    "import folium\n",
    "from folium import Choropleth, Circle, Marker, Icon, Map\n",
    "from folium.plugins import HeatMap, MarkerCluster"
   ]
  },
  {
   "cell_type": "code",
   "execution_count": 2,
   "id": "focused-retro",
   "metadata": {},
   "outputs": [],
   "source": [
    "companies = client.companies.companies\n",
    "offices = client.companies.offices"
   ]
  },
  {
   "cell_type": "code",
   "execution_count": 3,
   "id": "cosmetic-breakfast",
   "metadata": {},
   "outputs": [],
   "source": [
    "import pandas as pd"
   ]
  },
  {
   "cell_type": "markdown",
   "id": "detected-franklin",
   "metadata": {},
   "source": [
    "## Mongo request"
   ]
  },
  {
   "cell_type": "code",
   "execution_count": 4,
   "id": "advance-singapore",
   "metadata": {},
   "outputs": [
    {
     "data": {
      "text/plain": [
       "[{'name': 'Fliggo',\n",
       "  'founded_year': 2012,\n",
       "  'offices': [{'city': 'San Francisco'}]},\n",
       " {'name': 'Social Gaming Network',\n",
       "  'founded_year': 2011,\n",
       "  'offices': [{'city': 'Los Angeles'}, {'city': 'Beverly Hills'}]},\n",
       " {'name': 'Streamzy', 'founded_year': 2011, 'offices': []},\n",
       " {'name': 'Fuzz', 'founded_year': 2011, 'offices': [{'city': 'Santa Clara'}]}]"
      ]
     },
     "execution_count": 4,
     "metadata": {},
     "output_type": "execute_result"
    }
   ],
   "source": [
    "query = {\"category_code\": \"games_video\"}\n",
    "project = {\"_id\":0, \"name\":1,\"offices.city\":1, \"founded_year\":1}\n",
    "result = db[\"companies\"].find(query,project).sort(\"founded_year\",-1)\n",
    "x= list (result)\n",
    "len(x)\n",
    "x[:4]"
   ]
  },
  {
   "cell_type": "markdown",
   "id": "automated-mount",
   "metadata": {},
   "source": [
    "On a first overview we can deduce that the newest video games companies have been founded before 2011 so we can´t consider them exactly startups but let's consider those that are relatively new, for example those founded since 2005.\n",
    "We will take into account those that have raise at least 1 million dollars, so the tech developers are happy."
   ]
  },
  {
   "cell_type": "code",
   "execution_count": 5,
   "id": "wound-movie",
   "metadata": {},
   "outputs": [
    {
     "data": {
      "text/plain": [
       "24"
      ]
     },
     "execution_count": 5,
     "metadata": {},
     "output_type": "execute_result"
    }
   ],
   "source": [
    "query = {\"category_code\": \"games_video\",  \"founded_year\": {\"$gte\" : 2005}, \"offices.city\":\"San Francisco\", \"total_money_raised\":{\"$regex\" : \"M\"}}\n",
    "project = {\"_id\":0, \"name\":1,\"offices\":1, \"total_money_raised\":1, \"founded_year\":1}\n",
    "result = db[\"companies\"].find(query,project)\n",
    "sf_videogames= list (result)\n",
    "len(sf_videogames)"
   ]
  },
  {
   "cell_type": "code",
   "execution_count": 6,
   "id": "dramatic-improvement",
   "metadata": {
    "scrolled": true
   },
   "outputs": [
    {
     "data": {
      "text/plain": [
       "{'name': 'Kyte',\n",
       " 'founded_year': 2006,\n",
       " 'total_money_raised': '$23.4M',\n",
       " 'offices': [{'description': None,\n",
       "   'address1': '442 Post Street',\n",
       "   'address2': '10th Floor',\n",
       "   'zip_code': '94102',\n",
       "   'city': 'San Francisco',\n",
       "   'state_code': 'CA',\n",
       "   'country_code': 'USA',\n",
       "   'latitude': 37.788482,\n",
       "   'longitude': -122.409173}]}"
      ]
     },
     "execution_count": 6,
     "metadata": {},
     "output_type": "execute_result"
    }
   ],
   "source": [
    "sf_videogames[0]"
   ]
  },
  {
   "cell_type": "code",
   "execution_count": 7,
   "id": "incorrect-helping",
   "metadata": {},
   "outputs": [
    {
     "data": {
      "text/html": [
       "<div>\n",
       "<style scoped>\n",
       "    .dataframe tbody tr th:only-of-type {\n",
       "        vertical-align: middle;\n",
       "    }\n",
       "\n",
       "    .dataframe tbody tr th {\n",
       "        vertical-align: top;\n",
       "    }\n",
       "\n",
       "    .dataframe thead th {\n",
       "        text-align: right;\n",
       "    }\n",
       "</style>\n",
       "<table border=\"1\" class=\"dataframe\">\n",
       "  <thead>\n",
       "    <tr style=\"text-align: right;\">\n",
       "      <th></th>\n",
       "      <th>description</th>\n",
       "      <th>address1</th>\n",
       "      <th>address2</th>\n",
       "      <th>zip_code</th>\n",
       "      <th>city</th>\n",
       "      <th>state_code</th>\n",
       "      <th>country_code</th>\n",
       "      <th>latitude</th>\n",
       "      <th>longitude</th>\n",
       "      <th>name</th>\n",
       "      <th>founded_year</th>\n",
       "      <th>total_money_raised</th>\n",
       "    </tr>\n",
       "  </thead>\n",
       "  <tbody>\n",
       "    <tr>\n",
       "      <th>0</th>\n",
       "      <td>None</td>\n",
       "      <td>442 Post Street</td>\n",
       "      <td>10th Floor</td>\n",
       "      <td>94102</td>\n",
       "      <td>San Francisco</td>\n",
       "      <td>CA</td>\n",
       "      <td>USA</td>\n",
       "      <td>37.788482</td>\n",
       "      <td>-122.409173</td>\n",
       "      <td>Kyte</td>\n",
       "      <td>2006</td>\n",
       "      <td>$23.4M</td>\n",
       "    </tr>\n",
       "    <tr>\n",
       "      <th>1</th>\n",
       "      <td>San Francisco Office</td>\n",
       "      <td>410 Townsend</td>\n",
       "      <td>Suite 400</td>\n",
       "      <td>94107</td>\n",
       "      <td>San Francisco</td>\n",
       "      <td>CA</td>\n",
       "      <td>USA</td>\n",
       "      <td>37.392936</td>\n",
       "      <td>-122.079480</td>\n",
       "      <td>Ustream</td>\n",
       "      <td>2007</td>\n",
       "      <td>$60.1M</td>\n",
       "    </tr>\n",
       "    <tr>\n",
       "      <th>2</th>\n",
       "      <td>Los Angeles Office</td>\n",
       "      <td>6725 W Sunset Blvd</td>\n",
       "      <td>Suite 320</td>\n",
       "      <td>90028</td>\n",
       "      <td>Los Angeles</td>\n",
       "      <td>CA</td>\n",
       "      <td>USA</td>\n",
       "      <td>NaN</td>\n",
       "      <td>NaN</td>\n",
       "      <td>Ustream</td>\n",
       "      <td>2007</td>\n",
       "      <td>$60.1M</td>\n",
       "    </tr>\n",
       "    <tr>\n",
       "      <th>3</th>\n",
       "      <td>Budapest Office</td>\n",
       "      <td></td>\n",
       "      <td></td>\n",
       "      <td></td>\n",
       "      <td>Budapest</td>\n",
       "      <td>None</td>\n",
       "      <td>HUN</td>\n",
       "      <td>NaN</td>\n",
       "      <td>NaN</td>\n",
       "      <td>Ustream</td>\n",
       "      <td>2007</td>\n",
       "      <td>$60.1M</td>\n",
       "    </tr>\n",
       "    <tr>\n",
       "      <th>4</th>\n",
       "      <td>HQ</td>\n",
       "      <td>2415 3rd St</td>\n",
       "      <td></td>\n",
       "      <td>94107</td>\n",
       "      <td>San Francisco</td>\n",
       "      <td>CA</td>\n",
       "      <td>USA</td>\n",
       "      <td>37.757758</td>\n",
       "      <td>-122.388243</td>\n",
       "      <td>Revision3</td>\n",
       "      <td>2005</td>\n",
       "      <td>$9M</td>\n",
       "    </tr>\n",
       "  </tbody>\n",
       "</table>\n",
       "</div>"
      ],
      "text/plain": [
       "            description            address1    address2 zip_code  \\\n",
       "0                  None     442 Post Street  10th Floor    94102   \n",
       "1  San Francisco Office        410 Townsend   Suite 400    94107   \n",
       "2    Los Angeles Office  6725 W Sunset Blvd   Suite 320    90028   \n",
       "3       Budapest Office                                            \n",
       "4                    HQ         2415 3rd St                94107   \n",
       "\n",
       "            city state_code country_code   latitude   longitude       name  \\\n",
       "0  San Francisco         CA          USA  37.788482 -122.409173       Kyte   \n",
       "1  San Francisco         CA          USA  37.392936 -122.079480    Ustream   \n",
       "2    Los Angeles         CA          USA        NaN         NaN    Ustream   \n",
       "3       Budapest       None          HUN        NaN         NaN    Ustream   \n",
       "4  San Francisco         CA          USA  37.757758 -122.388243  Revision3   \n",
       "\n",
       "  founded_year total_money_raised  \n",
       "0         2006             $23.4M  \n",
       "1         2007             $60.1M  \n",
       "2         2007             $60.1M  \n",
       "3         2007             $60.1M  \n",
       "4         2005                $9M  "
      ]
     },
     "execution_count": 7,
     "metadata": {},
     "output_type": "execute_result"
    }
   ],
   "source": [
    "sf_df = pd.json_normalize(sf_videogames,\"offices\",[\"name\", \"founded_year\", \"total_money_raised\"])\n",
    "sf_df.head()"
   ]
  },
  {
   "cell_type": "markdown",
   "id": "pressed-tomato",
   "metadata": {},
   "source": [
    "## Dataframe cleaning"
   ]
  },
  {
   "cell_type": "markdown",
   "id": "extreme-sheep",
   "metadata": {},
   "source": [
    "Although we have already filtered the companies depending on if they had an office in San Francisco or not, those that have more than one offfice are apparing in our dataframe, so we need to drop them."
   ]
  },
  {
   "cell_type": "code",
   "execution_count": 11,
   "id": "stainless-blend",
   "metadata": {
    "scrolled": false
   },
   "outputs": [
    {
     "data": {
      "text/html": [
       "<div>\n",
       "<style scoped>\n",
       "    .dataframe tbody tr th:only-of-type {\n",
       "        vertical-align: middle;\n",
       "    }\n",
       "\n",
       "    .dataframe tbody tr th {\n",
       "        vertical-align: top;\n",
       "    }\n",
       "\n",
       "    .dataframe thead th {\n",
       "        text-align: right;\n",
       "    }\n",
       "</style>\n",
       "<table border=\"1\" class=\"dataframe\">\n",
       "  <thead>\n",
       "    <tr style=\"text-align: right;\">\n",
       "      <th></th>\n",
       "      <th>description</th>\n",
       "      <th>address1</th>\n",
       "      <th>address2</th>\n",
       "      <th>zip_code</th>\n",
       "      <th>city</th>\n",
       "      <th>state_code</th>\n",
       "      <th>country_code</th>\n",
       "      <th>latitude</th>\n",
       "      <th>longitude</th>\n",
       "      <th>name</th>\n",
       "      <th>founded_year</th>\n",
       "      <th>total_money_raised</th>\n",
       "    </tr>\n",
       "  </thead>\n",
       "  <tbody>\n",
       "    <tr>\n",
       "      <th>0</th>\n",
       "      <td>None</td>\n",
       "      <td>442 Post Street</td>\n",
       "      <td>10th Floor</td>\n",
       "      <td>94102</td>\n",
       "      <td>San Francisco</td>\n",
       "      <td>CA</td>\n",
       "      <td>USA</td>\n",
       "      <td>37.788482</td>\n",
       "      <td>-122.409173</td>\n",
       "      <td>Kyte</td>\n",
       "      <td>2006</td>\n",
       "      <td>$23.4M</td>\n",
       "    </tr>\n",
       "    <tr>\n",
       "      <th>1</th>\n",
       "      <td>San Francisco Office</td>\n",
       "      <td>410 Townsend</td>\n",
       "      <td>Suite 400</td>\n",
       "      <td>94107</td>\n",
       "      <td>San Francisco</td>\n",
       "      <td>CA</td>\n",
       "      <td>USA</td>\n",
       "      <td>37.392936</td>\n",
       "      <td>-122.079480</td>\n",
       "      <td>Ustream</td>\n",
       "      <td>2007</td>\n",
       "      <td>$60.1M</td>\n",
       "    </tr>\n",
       "    <tr>\n",
       "      <th>4</th>\n",
       "      <td>HQ</td>\n",
       "      <td>2415 3rd St</td>\n",
       "      <td></td>\n",
       "      <td>94107</td>\n",
       "      <td>San Francisco</td>\n",
       "      <td>CA</td>\n",
       "      <td>USA</td>\n",
       "      <td>37.757758</td>\n",
       "      <td>-122.388243</td>\n",
       "      <td>Revision3</td>\n",
       "      <td>2005</td>\n",
       "      <td>$9M</td>\n",
       "    </tr>\n",
       "    <tr>\n",
       "      <th>5</th>\n",
       "      <td>None</td>\n",
       "      <td>374 Brannan St.</td>\n",
       "      <td>None</td>\n",
       "      <td>94107</td>\n",
       "      <td>San Francisco</td>\n",
       "      <td>CA</td>\n",
       "      <td>USA</td>\n",
       "      <td>37.780716</td>\n",
       "      <td>-122.393913</td>\n",
       "      <td>CastTV</td>\n",
       "      <td>2006</td>\n",
       "      <td>$3.1M</td>\n",
       "    </tr>\n",
       "    <tr>\n",
       "      <th>6</th>\n",
       "      <td>San Francisco</td>\n",
       "      <td>60 Broadway</td>\n",
       "      <td></td>\n",
       "      <td>94111</td>\n",
       "      <td>San Francisco</td>\n",
       "      <td>CA</td>\n",
       "      <td>USA</td>\n",
       "      <td>37.787092</td>\n",
       "      <td>-122.399972</td>\n",
       "      <td>Curse</td>\n",
       "      <td>2006</td>\n",
       "      <td>$12M</td>\n",
       "    </tr>\n",
       "  </tbody>\n",
       "</table>\n",
       "</div>"
      ],
      "text/plain": [
       "            description         address1    address2 zip_code           city  \\\n",
       "0                  None  442 Post Street  10th Floor    94102  San Francisco   \n",
       "1  San Francisco Office     410 Townsend   Suite 400    94107  San Francisco   \n",
       "4                    HQ      2415 3rd St                94107  San Francisco   \n",
       "5                  None  374 Brannan St.        None    94107  San Francisco   \n",
       "6         San Francisco      60 Broadway                94111  San Francisco   \n",
       "\n",
       "  state_code country_code   latitude   longitude       name founded_year  \\\n",
       "0         CA          USA  37.788482 -122.409173       Kyte         2006   \n",
       "1         CA          USA  37.392936 -122.079480    Ustream         2007   \n",
       "4         CA          USA  37.757758 -122.388243  Revision3         2005   \n",
       "5         CA          USA  37.780716 -122.393913     CastTV         2006   \n",
       "6         CA          USA  37.787092 -122.399972      Curse         2006   \n",
       "\n",
       "  total_money_raised  \n",
       "0             $23.4M  \n",
       "1             $60.1M  \n",
       "4                $9M  \n",
       "5              $3.1M  \n",
       "6               $12M  "
      ]
     },
     "execution_count": 11,
     "metadata": {},
     "output_type": "execute_result"
    }
   ],
   "source": [
    "# Get indexes where name column doesn't have value 'San Francisco'\n",
    "indexNames = sf_df[~(sf_df['city'] == 'San Francisco')].index \n",
    "# Delete these row indexes from dataFrame\n",
    "sf_df.drop(indexNames , inplace=True)\n",
    "sf_df = sf_df[sf_df['latitude'].notna()]\n",
    "sf_df = sf_df[sf_df['longitude'].notna()]\n",
    "sf_df.head()"
   ]
  },
  {
   "cell_type": "code",
   "execution_count": 32,
   "id": "composed-toronto",
   "metadata": {},
   "outputs": [
    {
     "data": {
      "text/plain": [
       "21"
      ]
     },
     "execution_count": 32,
     "metadata": {},
     "output_type": "execute_result"
    }
   ],
   "source": [
    "len(sf_df)"
   ]
  },
  {
   "cell_type": "code",
   "execution_count": 27,
   "id": "surprising-jacob",
   "metadata": {},
   "outputs": [],
   "source": [
    "import geopandas as gpd"
   ]
  },
  {
   "cell_type": "code",
   "execution_count": 28,
   "id": "seventh-postage",
   "metadata": {},
   "outputs": [],
   "source": [
    "sf_gdf = gpd.GeoDataFrame(sf_df,geometry = gpd.points_from_xy(sf_df.longitude, sf_df.latitude))"
   ]
  },
  {
   "cell_type": "code",
   "execution_count": 33,
   "id": "municipal-cedar",
   "metadata": {},
   "outputs": [
    {
     "data": {
      "text/html": [
       "<div>\n",
       "<style scoped>\n",
       "    .dataframe tbody tr th:only-of-type {\n",
       "        vertical-align: middle;\n",
       "    }\n",
       "\n",
       "    .dataframe tbody tr th {\n",
       "        vertical-align: top;\n",
       "    }\n",
       "\n",
       "    .dataframe thead th {\n",
       "        text-align: right;\n",
       "    }\n",
       "</style>\n",
       "<table border=\"1\" class=\"dataframe\">\n",
       "  <thead>\n",
       "    <tr style=\"text-align: right;\">\n",
       "      <th></th>\n",
       "      <th>description</th>\n",
       "      <th>address1</th>\n",
       "      <th>address2</th>\n",
       "      <th>zip_code</th>\n",
       "      <th>city</th>\n",
       "      <th>state_code</th>\n",
       "      <th>country_code</th>\n",
       "      <th>latitude</th>\n",
       "      <th>longitude</th>\n",
       "      <th>name</th>\n",
       "      <th>founded_year</th>\n",
       "      <th>total_money_raised</th>\n",
       "      <th>geometry</th>\n",
       "    </tr>\n",
       "  </thead>\n",
       "  <tbody>\n",
       "    <tr>\n",
       "      <th>0</th>\n",
       "      <td>None</td>\n",
       "      <td>442 Post Street</td>\n",
       "      <td>10th Floor</td>\n",
       "      <td>94102</td>\n",
       "      <td>San Francisco</td>\n",
       "      <td>CA</td>\n",
       "      <td>USA</td>\n",
       "      <td>37.788482</td>\n",
       "      <td>-122.409173</td>\n",
       "      <td>Kyte</td>\n",
       "      <td>2006</td>\n",
       "      <td>$23.4M</td>\n",
       "      <td>POINT (-122.40917 37.78848)</td>\n",
       "    </tr>\n",
       "    <tr>\n",
       "      <th>1</th>\n",
       "      <td>San Francisco Office</td>\n",
       "      <td>410 Townsend</td>\n",
       "      <td>Suite 400</td>\n",
       "      <td>94107</td>\n",
       "      <td>San Francisco</td>\n",
       "      <td>CA</td>\n",
       "      <td>USA</td>\n",
       "      <td>37.392936</td>\n",
       "      <td>-122.079480</td>\n",
       "      <td>Ustream</td>\n",
       "      <td>2007</td>\n",
       "      <td>$60.1M</td>\n",
       "      <td>POINT (-122.07948 37.39294)</td>\n",
       "    </tr>\n",
       "    <tr>\n",
       "      <th>4</th>\n",
       "      <td>HQ</td>\n",
       "      <td>2415 3rd St</td>\n",
       "      <td></td>\n",
       "      <td>94107</td>\n",
       "      <td>San Francisco</td>\n",
       "      <td>CA</td>\n",
       "      <td>USA</td>\n",
       "      <td>37.757758</td>\n",
       "      <td>-122.388243</td>\n",
       "      <td>Revision3</td>\n",
       "      <td>2005</td>\n",
       "      <td>$9M</td>\n",
       "      <td>POINT (-122.38824 37.75776)</td>\n",
       "    </tr>\n",
       "    <tr>\n",
       "      <th>5</th>\n",
       "      <td>None</td>\n",
       "      <td>374 Brannan St.</td>\n",
       "      <td>None</td>\n",
       "      <td>94107</td>\n",
       "      <td>San Francisco</td>\n",
       "      <td>CA</td>\n",
       "      <td>USA</td>\n",
       "      <td>37.780716</td>\n",
       "      <td>-122.393913</td>\n",
       "      <td>CastTV</td>\n",
       "      <td>2006</td>\n",
       "      <td>$3.1M</td>\n",
       "      <td>POINT (-122.39391 37.78072)</td>\n",
       "    </tr>\n",
       "    <tr>\n",
       "      <th>6</th>\n",
       "      <td>San Francisco</td>\n",
       "      <td>60 Broadway</td>\n",
       "      <td></td>\n",
       "      <td>94111</td>\n",
       "      <td>San Francisco</td>\n",
       "      <td>CA</td>\n",
       "      <td>USA</td>\n",
       "      <td>37.787092</td>\n",
       "      <td>-122.399972</td>\n",
       "      <td>Curse</td>\n",
       "      <td>2006</td>\n",
       "      <td>$12M</td>\n",
       "      <td>POINT (-122.39997 37.78709)</td>\n",
       "    </tr>\n",
       "  </tbody>\n",
       "</table>\n",
       "</div>"
      ],
      "text/plain": [
       "            description         address1    address2 zip_code           city  \\\n",
       "0                  None  442 Post Street  10th Floor    94102  San Francisco   \n",
       "1  San Francisco Office     410 Townsend   Suite 400    94107  San Francisco   \n",
       "4                    HQ      2415 3rd St                94107  San Francisco   \n",
       "5                  None  374 Brannan St.        None    94107  San Francisco   \n",
       "6         San Francisco      60 Broadway                94111  San Francisco   \n",
       "\n",
       "  state_code country_code   latitude   longitude       name founded_year  \\\n",
       "0         CA          USA  37.788482 -122.409173       Kyte         2006   \n",
       "1         CA          USA  37.392936 -122.079480    Ustream         2007   \n",
       "4         CA          USA  37.757758 -122.388243  Revision3         2005   \n",
       "5         CA          USA  37.780716 -122.393913     CastTV         2006   \n",
       "6         CA          USA  37.787092 -122.399972      Curse         2006   \n",
       "\n",
       "  total_money_raised                     geometry  \n",
       "0             $23.4M  POINT (-122.40917 37.78848)  \n",
       "1             $60.1M  POINT (-122.07948 37.39294)  \n",
       "4                $9M  POINT (-122.38824 37.75776)  \n",
       "5              $3.1M  POINT (-122.39391 37.78072)  \n",
       "6               $12M  POINT (-122.39997 37.78709)  "
      ]
     },
     "execution_count": 33,
     "metadata": {},
     "output_type": "execute_result"
    }
   ],
   "source": [
    "sf_gdf.head()"
   ]
  },
  {
   "cell_type": "code",
   "execution_count": 30,
   "id": "future-frost",
   "metadata": {},
   "outputs": [],
   "source": [
    "sf_gdf.to_csv(\"data/san_francisco_vg_comp_gdf.csv\")"
   ]
  },
  {
   "cell_type": "markdown",
   "id": "unavailable-processing",
   "metadata": {},
   "source": [
    "## Map visualization"
   ]
  },
  {
   "cell_type": "code",
   "execution_count": 22,
   "id": "bottom-equilibrium",
   "metadata": {},
   "outputs": [],
   "source": [
    "inicial_lat = 37.7825098\n",
    "inicial_long = -122.4077973"
   ]
  },
  {
   "cell_type": "code",
   "execution_count": 23,
   "id": "differential-transportation",
   "metadata": {
    "scrolled": true
   },
   "outputs": [],
   "source": [
    "map_1 = folium.Map(location = [inicial_lat,inicial_long], zoom_start = 15)\n"
   ]
  },
  {
   "cell_type": "code",
   "execution_count": 21,
   "id": "ordered-planet",
   "metadata": {},
   "outputs": [
    {
     "data": {
      "text/html": [
       "<div style=\"width:100%;\"><div style=\"position:relative;width:100%;height:0;padding-bottom:60%;\"><span style=\"color:#565656\">Make this Notebook Trusted to load map: File -> Trust Notebook</span><iframe src=\"about:blank\" style=\"position:absolute;width:100%;height:100%;left:0;top:0;border:none !important;\" data-html=%3C%21DOCTYPE%20html%3E%0A%3Chead%3E%20%20%20%20%0A%20%20%20%20%3Cmeta%20http-equiv%3D%22content-type%22%20content%3D%22text/html%3B%20charset%3DUTF-8%22%20/%3E%0A%20%20%20%20%0A%20%20%20%20%20%20%20%20%3Cscript%3E%0A%20%20%20%20%20%20%20%20%20%20%20%20L_NO_TOUCH%20%3D%20false%3B%0A%20%20%20%20%20%20%20%20%20%20%20%20L_DISABLE_3D%20%3D%20false%3B%0A%20%20%20%20%20%20%20%20%3C/script%3E%0A%20%20%20%20%0A%20%20%20%20%3Cstyle%3Ehtml%2C%20body%20%7Bwidth%3A%20100%25%3Bheight%3A%20100%25%3Bmargin%3A%200%3Bpadding%3A%200%3B%7D%3C/style%3E%0A%20%20%20%20%3Cstyle%3E%23map%20%7Bposition%3Aabsolute%3Btop%3A0%3Bbottom%3A0%3Bright%3A0%3Bleft%3A0%3B%7D%3C/style%3E%0A%20%20%20%20%3Cscript%20src%3D%22https%3A//cdn.jsdelivr.net/npm/leaflet%401.6.0/dist/leaflet.js%22%3E%3C/script%3E%0A%20%20%20%20%3Cscript%20src%3D%22https%3A//code.jquery.com/jquery-1.12.4.min.js%22%3E%3C/script%3E%0A%20%20%20%20%3Cscript%20src%3D%22https%3A//maxcdn.bootstrapcdn.com/bootstrap/3.2.0/js/bootstrap.min.js%22%3E%3C/script%3E%0A%20%20%20%20%3Cscript%20src%3D%22https%3A//cdnjs.cloudflare.com/ajax/libs/Leaflet.awesome-markers/2.0.2/leaflet.awesome-markers.js%22%3E%3C/script%3E%0A%20%20%20%20%3Clink%20rel%3D%22stylesheet%22%20href%3D%22https%3A//cdn.jsdelivr.net/npm/leaflet%401.6.0/dist/leaflet.css%22/%3E%0A%20%20%20%20%3Clink%20rel%3D%22stylesheet%22%20href%3D%22https%3A//maxcdn.bootstrapcdn.com/bootstrap/3.2.0/css/bootstrap.min.css%22/%3E%0A%20%20%20%20%3Clink%20rel%3D%22stylesheet%22%20href%3D%22https%3A//maxcdn.bootstrapcdn.com/bootstrap/3.2.0/css/bootstrap-theme.min.css%22/%3E%0A%20%20%20%20%3Clink%20rel%3D%22stylesheet%22%20href%3D%22https%3A//maxcdn.bootstrapcdn.com/font-awesome/4.6.3/css/font-awesome.min.css%22/%3E%0A%20%20%20%20%3Clink%20rel%3D%22stylesheet%22%20href%3D%22https%3A//cdnjs.cloudflare.com/ajax/libs/Leaflet.awesome-markers/2.0.2/leaflet.awesome-markers.css%22/%3E%0A%20%20%20%20%3Clink%20rel%3D%22stylesheet%22%20href%3D%22https%3A//cdn.jsdelivr.net/gh/python-visualization/folium/folium/templates/leaflet.awesome.rotate.min.css%22/%3E%0A%20%20%20%20%0A%20%20%20%20%20%20%20%20%20%20%20%20%3Cmeta%20name%3D%22viewport%22%20content%3D%22width%3Ddevice-width%2C%0A%20%20%20%20%20%20%20%20%20%20%20%20%20%20%20%20initial-scale%3D1.0%2C%20maximum-scale%3D1.0%2C%20user-scalable%3Dno%22%20/%3E%0A%20%20%20%20%20%20%20%20%20%20%20%20%3Cstyle%3E%0A%20%20%20%20%20%20%20%20%20%20%20%20%20%20%20%20%23map_919e0a44b5f748c890763ff5f4e3a106%20%7B%0A%20%20%20%20%20%20%20%20%20%20%20%20%20%20%20%20%20%20%20%20position%3A%20relative%3B%0A%20%20%20%20%20%20%20%20%20%20%20%20%20%20%20%20%20%20%20%20width%3A%20100.0%25%3B%0A%20%20%20%20%20%20%20%20%20%20%20%20%20%20%20%20%20%20%20%20height%3A%20100.0%25%3B%0A%20%20%20%20%20%20%20%20%20%20%20%20%20%20%20%20%20%20%20%20left%3A%200.0%25%3B%0A%20%20%20%20%20%20%20%20%20%20%20%20%20%20%20%20%20%20%20%20top%3A%200.0%25%3B%0A%20%20%20%20%20%20%20%20%20%20%20%20%20%20%20%20%7D%0A%20%20%20%20%20%20%20%20%20%20%20%20%3C/style%3E%0A%20%20%20%20%20%20%20%20%0A%20%20%20%20%3Cscript%20src%3D%22https%3A//cdn.jsdelivr.net/gh/python-visualization/folium%40master/folium/templates/leaflet_heat.min.js%22%3E%3C/script%3E%0A%3C/head%3E%0A%3Cbody%3E%20%20%20%20%0A%20%20%20%20%0A%20%20%20%20%20%20%20%20%20%20%20%20%3Cdiv%20class%3D%22folium-map%22%20id%3D%22map_919e0a44b5f748c890763ff5f4e3a106%22%20%3E%3C/div%3E%0A%20%20%20%20%20%20%20%20%0A%3C/body%3E%0A%3Cscript%3E%20%20%20%20%0A%20%20%20%20%0A%20%20%20%20%20%20%20%20%20%20%20%20var%20map_919e0a44b5f748c890763ff5f4e3a106%20%3D%20L.map%28%0A%20%20%20%20%20%20%20%20%20%20%20%20%20%20%20%20%22map_919e0a44b5f748c890763ff5f4e3a106%22%2C%0A%20%20%20%20%20%20%20%20%20%20%20%20%20%20%20%20%7B%0A%20%20%20%20%20%20%20%20%20%20%20%20%20%20%20%20%20%20%20%20center%3A%20%5B37.7745969%2C%20-122.4199706%5D%2C%0A%20%20%20%20%20%20%20%20%20%20%20%20%20%20%20%20%20%20%20%20crs%3A%20L.CRS.EPSG3857%2C%0A%20%20%20%20%20%20%20%20%20%20%20%20%20%20%20%20%20%20%20%20zoom%3A%2013%2C%0A%20%20%20%20%20%20%20%20%20%20%20%20%20%20%20%20%20%20%20%20zoomControl%3A%20true%2C%0A%20%20%20%20%20%20%20%20%20%20%20%20%20%20%20%20%20%20%20%20preferCanvas%3A%20false%2C%0A%20%20%20%20%20%20%20%20%20%20%20%20%20%20%20%20%7D%0A%20%20%20%20%20%20%20%20%20%20%20%20%29%3B%0A%0A%20%20%20%20%20%20%20%20%20%20%20%20%0A%0A%20%20%20%20%20%20%20%20%0A%20%20%20%20%0A%20%20%20%20%20%20%20%20%20%20%20%20var%20tile_layer_90f182229d414113a6588098602b8690%20%3D%20L.tileLayer%28%0A%20%20%20%20%20%20%20%20%20%20%20%20%20%20%20%20%22https%3A//%7Bs%7D.tile.openstreetmap.org/%7Bz%7D/%7Bx%7D/%7By%7D.png%22%2C%0A%20%20%20%20%20%20%20%20%20%20%20%20%20%20%20%20%7B%22attribution%22%3A%20%22Data%20by%20%5Cu0026copy%3B%20%5Cu003ca%20href%3D%5C%22http%3A//openstreetmap.org%5C%22%5Cu003eOpenStreetMap%5Cu003c/a%5Cu003e%2C%20under%20%5Cu003ca%20href%3D%5C%22http%3A//www.openstreetmap.org/copyright%5C%22%5Cu003eODbL%5Cu003c/a%5Cu003e.%22%2C%20%22detectRetina%22%3A%20false%2C%20%22maxNativeZoom%22%3A%2018%2C%20%22maxZoom%22%3A%2018%2C%20%22minZoom%22%3A%200%2C%20%22noWrap%22%3A%20false%2C%20%22opacity%22%3A%201%2C%20%22subdomains%22%3A%20%22abc%22%2C%20%22tms%22%3A%20false%7D%0A%20%20%20%20%20%20%20%20%20%20%20%20%29.addTo%28map_919e0a44b5f748c890763ff5f4e3a106%29%3B%0A%20%20%20%20%20%20%20%20%0A%20%20%20%20%0A%20%20%20%20%20%20%20%20%20%20%20%20var%20heat_map_4c308291227d4562851c74fe7f6044b5%20%3D%20L.heatLayer%28%0A%20%20%20%20%20%20%20%20%20%20%20%20%20%20%20%20%5B%5B37.788482%2C%20-122.409173%5D%2C%20%5B37.392936%2C%20-122.07948%5D%2C%20%5B37.757758%2C%20-122.388243%5D%2C%20%5B37.780716%2C%20-122.393913%5D%2C%20%5B37.787092%2C%20-122.399972%5D%2C%20%5B37.786942%2C%20-122.401245%5D%2C%20%5B37.781557%2C%20-122.407959%5D%2C%20%5B37.781265%2C%20-122.393229%5D%2C%20%5B37.775196%2C%20-122.419204%5D%2C%20%5B37.765158%2C%20-122.404234%5D%2C%20%5B37.7893215%2C%20-122.4013624%5D%2C%20%5B37.3944561%2C%20-122.0785314%5D%2C%20%5B37.786906%2C%20-122.397672%5D%2C%20%5B37.7705096%2C%20-122.4015807%5D%2C%20%5B37.783046%2C%20-122.394067%5D%2C%20%5B37.783046%2C%20-122.394067%5D%2C%20%5B37.804619%2C%20-122.371203%5D%2C%20%5B37.775196%2C%20-122.419204%5D%2C%20%5B37.420728%2C%20-122.2103414%5D%2C%20%5B37.77772%2C%20-122.395785%5D%2C%20%5B37.7905538%2C%20-122.4041485%5D%5D%2C%0A%20%20%20%20%20%20%20%20%20%20%20%20%20%20%20%20%7B%22blur%22%3A%2015%2C%20%22maxZoom%22%3A%2018%2C%20%22minOpacity%22%3A%200.5%2C%20%22radius%22%3A%2015%7D%0A%20%20%20%20%20%20%20%20%20%20%20%20%29.addTo%28map_919e0a44b5f748c890763ff5f4e3a106%29%3B%0A%20%20%20%20%20%20%20%20%0A%3C/script%3E onload=\"this.contentDocument.open();this.contentDocument.write(    decodeURIComponent(this.getAttribute('data-html')));this.contentDocument.close();\" allowfullscreen webkitallowfullscreen mozallowfullscreen></iframe></div></div>"
      ],
      "text/plain": [
       "<folium.folium.Map at 0x7ff04cfef0d0>"
      ]
     },
     "execution_count": 21,
     "metadata": {},
     "output_type": "execute_result"
    }
   ],
   "source": [
    "HeatMap(data = sf_df [[\"latitude\", \"longitude\"]], radius =15).add_to(map_1)\n",
    "map_1"
   ]
  },
  {
   "cell_type": "markdown",
   "id": "becoming-mathematics",
   "metadata": {},
   "source": [
    "We can see that these companies tend to accumulate in three areas. Let's find out if we can satify more requirements near here."
   ]
  },
  {
   "cell_type": "code",
   "execution_count": 24,
   "id": "altered-sugar",
   "metadata": {},
   "outputs": [],
   "source": [
    "#Van Ness avenue with Market Street\n",
    "loc1 = 37.77501,-122.4167646\n",
    "#2nd with Bryan Street more or les\n",
    "loc2 =37.7832303,-122.3936295\n",
    "#Motgomery St. Station\n",
    "loc3 =37.7887223,-122.4009011"
   ]
  }
 ],
 "metadata": {
  "kernelspec": {
   "display_name": "Python 3",
   "language": "python",
   "name": "python3"
  },
  "language_info": {
   "codemirror_mode": {
    "name": "ipython",
    "version": 3
   },
   "file_extension": ".py",
   "mimetype": "text/x-python",
   "name": "python",
   "nbconvert_exporter": "python",
   "pygments_lexer": "ipython3",
   "version": "3.8.5"
  },
  "toc": {
   "base_numbering": 1,
   "nav_menu": {},
   "number_sections": true,
   "sideBar": true,
   "skip_h1_title": true,
   "title_cell": "Table of Contents",
   "title_sidebar": "Contents",
   "toc_cell": true,
   "toc_position": {
    "height": "calc(100% - 180px)",
    "left": "10px",
    "top": "150px",
    "width": "238.188px"
   },
   "toc_section_display": true,
   "toc_window_display": true
  },
  "varInspector": {
   "cols": {
    "lenName": 16,
    "lenType": 16,
    "lenVar": 40
   },
   "kernels_config": {
    "python": {
     "delete_cmd_postfix": "",
     "delete_cmd_prefix": "del ",
     "library": "var_list.py",
     "varRefreshCmd": "print(var_dic_list())"
    },
    "r": {
     "delete_cmd_postfix": ") ",
     "delete_cmd_prefix": "rm(",
     "library": "var_list.r",
     "varRefreshCmd": "cat(var_dic_list()) "
    }
   },
   "types_to_exclude": [
    "module",
    "function",
    "builtin_function_or_method",
    "instance",
    "_Feature"
   ],
   "window_display": false
  }
 },
 "nbformat": 4,
 "nbformat_minor": 5
}
