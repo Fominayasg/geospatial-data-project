{
 "cells": [
  {
   "cell_type": "markdown",
   "id": "indie-protocol",
   "metadata": {},
   "source": [
    "# Nearest services"
   ]
  },
  {
   "cell_type": "markdown",
   "id": "complete-croatia",
   "metadata": {},
   "source": [
    "In this notebook I'm using all the data collected in the previous notebooks to agreggate the nearest servicies required to each of the three potential locations.\n",
    "\n",
    "For this I'm using de GeoJSON collections I created in the previous notebook."
   ]
  },
  {
   "cell_type": "code",
   "execution_count": 1,
   "id": "personalized-israel",
   "metadata": {},
   "outputs": [],
   "source": [
    "import sys\n",
    "sys.path.append(\"../\")\n",
    "from src.foursquare import *\n",
    "from pymongo import MongoClient,GEOSPHERE\n",
    "client = MongoClient(\"mongodb://localhost:27017/ironhack\")\n",
    "import pandas as pd"
   ]
  },
  {
   "cell_type": "markdown",
   "id": "qualified-occupation",
   "metadata": {},
   "source": [
    " **Van Ness avenue with Market Street**\n",
    " \n",
    "    loc1 = -122.4167646, 37.77501\n",
    " **2nd with Bryan Street more or les**\n",
    " \n",
    "    loc2 = -122.3936295, 37.7832303\n",
    " **Motgomery St. Station**\n",
    " \n",
    "    loc3 =-122.4009011, 37.7887223"
   ]
  },
  {
   "cell_type": "code",
   "execution_count": 2,
   "id": "angry-diamond",
   "metadata": {},
   "outputs": [],
   "source": [
    "db=client.ironhack"
   ]
  },
  {
   "cell_type": "markdown",
   "id": "gothic-tactics",
   "metadata": {},
   "source": [
    "## Looking for the nearest services in \"Van Ness avenue with Market Street\""
   ]
  },
  {
   "cell_type": "code",
   "execution_count": 3,
   "id": "hidden-world",
   "metadata": {},
   "outputs": [],
   "source": [
    "loc1 = [-122.4167646,37.77501]\n",
    "loc1_list = []"
   ]
  },
  {
   "cell_type": "code",
   "execution_count": 4,
   "id": "substantial-young",
   "metadata": {},
   "outputs": [
    {
     "name": "stdout",
     "output_type": "stream",
     "text": [
      "{'_id': ObjectId('602161afa8847ab9f63b68df'), 'name': 'Starbucks', 'latitud': 37.77708998, 'longitud': -122.4172976, 'geometry': {'type': 'Point', 'coordinates': [-122.4172976, 37.77708998]}}\n"
     ]
    }
   ],
   "source": [
    "# Nearest Starbucks\n",
    "nearest = db.starbucks.find({\"geometry\":{\"$near\":{\"type\":\"Point\", \"coordinates\":loc1}}})\n",
    "x = list(nearest)[0]\n",
    "print(x)\n",
    "loc1_list.append(x)"
   ]
  },
  {
   "cell_type": "code",
   "execution_count": 5,
   "id": "intensive-swimming",
   "metadata": {},
   "outputs": [
    {
     "name": "stdout",
     "output_type": "stream",
     "text": [
      "{'_id': ObjectId('60216787a8847ab9f63b68fd'), 'name': 'San Francisco International Airport (SFO) (San Francisco International Airport)', 'latitud': 37.6167130000997, 'longitud': -122.38709449768066, 'geometry': {'type': 'Point', 'coordinates': [-122.38709449768066, 37.6167130000997]}}\n"
     ]
    }
   ],
   "source": [
    "# Nearest airport\n",
    "nearest = db.airports.find({\"geometry\":{\"$near\":{\"type\":\"Point\", \"coordinates\":loc1}}})\n",
    "x = list(nearest)[0]\n",
    "print(x)\n",
    "loc1_list.append(x)"
   ]
  },
  {
   "cell_type": "code",
   "execution_count": 6,
   "id": "brutal-thriller",
   "metadata": {},
   "outputs": [
    {
     "name": "stdout",
     "output_type": "stream",
     "text": [
      "{'_id': ObjectId('602168baa8847ab9f63b68fe'), 'name': 'VCA All Pets Hospital', 'latitud': 37.76892, 'longitud': -122.41752, 'geometry': {'type': 'Point', 'coordinates': [-122.41752, 37.76892]}}\n"
     ]
    }
   ],
   "source": [
    "# Nearest Vet for Dobby\n",
    "nearest = db.vet.find({\"geometry\":{\"$near\":{\"type\":\"Point\", \"coordinates\":loc1}}})\n",
    "x = list(nearest)[0]\n",
    "print(x)\n",
    "loc1_list.append(x)"
   ]
  },
  {
   "cell_type": "code",
   "execution_count": 7,
   "id": "satisfied-arbor",
   "metadata": {},
   "outputs": [
    {
     "name": "stdout",
     "output_type": "stream",
     "text": [
      "{'_id': ObjectId('60216908a8847ab9f63b690f'), 'name': \"C5 Children's School\", 'latitud': 37.778864078509734, 'longitud': -122.41458373129642, 'geometry': {'type': 'Point', 'coordinates': [-122.41458373129642, 37.778864078509734]}}\n"
     ]
    }
   ],
   "source": [
    "# Nearest schools\n",
    "nearest = db.schools.find({\"geometry\":{\"$near\":{\"type\":\"Point\", \"coordinates\":loc1}}})\n",
    "x = list(nearest)[0]\n",
    "print(x)\n",
    "loc1_list.append(x)"
   ]
  },
  {
   "cell_type": "code",
   "execution_count": 8,
   "id": "thrown-withdrawal",
   "metadata": {
    "scrolled": true
   },
   "outputs": [
    {
     "name": "stdout",
     "output_type": "stream",
     "text": [
      "{'_id': ObjectId('6021695fa8847ab9f63b691b'), 'name': 'Ananda Fuara', 'latitud': 37.77769251469199, 'longitud': -122.41635331222618, 'geometry': {'type': 'Point', 'coordinates': [-122.41635331222618, 37.77769251469199]}}\n"
     ]
    }
   ],
   "source": [
    "# Nearest vegan restaurants\n",
    "nearest = db.vegan.find({\"geometry\":{\"$near\":{\"type\":\"Point\", \"coordinates\":loc1}}})\n",
    "x = list(nearest)[0]\n",
    "print(x)\n",
    "loc1_list.append(x)"
   ]
  },
  {
   "cell_type": "code",
   "execution_count": 9,
   "id": "anticipated-semiconductor",
   "metadata": {},
   "outputs": [
    {
     "name": "stdout",
     "output_type": "stream",
     "text": [
      "{'_id': ObjectId('60216999a8847ab9f63b6953'), 'name': 'Verso', 'latitud': 37.77375297887464, 'longitud': -122.41737993225024, 'geometry': {'type': 'Point', 'coordinates': [-122.41737993225024, 37.77375297887464]}}\n"
     ]
    }
   ],
   "source": [
    "# Nearest nightclubs\n",
    "nearest = db.party.find({\"geometry\":{\"$near\":{\"type\":\"Point\", \"coordinates\":loc1}}})\n",
    "x = list(nearest)[0]\n",
    "print(x)\n",
    "loc1_list.append(x)"
   ]
  },
  {
   "cell_type": "code",
   "execution_count": 10,
   "id": "patent-vaccine",
   "metadata": {},
   "outputs": [
    {
     "name": "stdout",
     "output_type": "stream",
     "text": [
      "{'_id': ObjectId('60216787a8847ab9f63b68fd'), 'name': 'San Francisco International Airport (SFO) (San Francisco International Airport)', 'latitud': 37.6167130000997, 'longitud': -122.38709449768066, 'geometry': {'type': 'Point', 'coordinates': [-122.38709449768066, 37.6167130000997]}}\n"
     ]
    }
   ],
   "source": [
    "# Nearest basketball stadium\n",
    "nearest = db.basket_stadiums# Nearest airport\n",
    "nearest = db.airports.find({\"geometry\":{\"$near\":{\"type\":\"Point\", \"coordinates\":loc1}}})\n",
    "x = list(nearest)[0]\n",
    "print(x)\n",
    "loc1_list.append(x)"
   ]
  },
  {
   "cell_type": "markdown",
   "id": "grand-outdoors",
   "metadata": {},
   "source": [
    "Now I make a dataframe with all the services"
   ]
  },
  {
   "cell_type": "code",
   "execution_count": 12,
   "id": "trained-webmaster",
   "metadata": {
    "scrolled": true
   },
   "outputs": [
    {
     "data": {
      "text/html": [
       "<div>\n",
       "<style scoped>\n",
       "    .dataframe tbody tr th:only-of-type {\n",
       "        vertical-align: middle;\n",
       "    }\n",
       "\n",
       "    .dataframe tbody tr th {\n",
       "        vertical-align: top;\n",
       "    }\n",
       "\n",
       "    .dataframe thead th {\n",
       "        text-align: right;\n",
       "    }\n",
       "</style>\n",
       "<table border=\"1\" class=\"dataframe\">\n",
       "  <thead>\n",
       "    <tr style=\"text-align: right;\">\n",
       "      <th></th>\n",
       "      <th>_id</th>\n",
       "      <th>name</th>\n",
       "      <th>latitud</th>\n",
       "      <th>longitud</th>\n",
       "      <th>geometry</th>\n",
       "    </tr>\n",
       "  </thead>\n",
       "  <tbody>\n",
       "    <tr>\n",
       "      <th>0</th>\n",
       "      <td>602161afa8847ab9f63b68df</td>\n",
       "      <td>Starbucks</td>\n",
       "      <td>37.777090</td>\n",
       "      <td>-122.417298</td>\n",
       "      <td>{'type': 'Point', 'coordinates': [-122.4172976...</td>\n",
       "    </tr>\n",
       "    <tr>\n",
       "      <th>1</th>\n",
       "      <td>60216787a8847ab9f63b68fd</td>\n",
       "      <td>San Francisco International Airport (SFO) (San...</td>\n",
       "      <td>37.616713</td>\n",
       "      <td>-122.387094</td>\n",
       "      <td>{'type': 'Point', 'coordinates': [-122.3870944...</td>\n",
       "    </tr>\n",
       "    <tr>\n",
       "      <th>2</th>\n",
       "      <td>602168baa8847ab9f63b68fe</td>\n",
       "      <td>VCA All Pets Hospital</td>\n",
       "      <td>37.768920</td>\n",
       "      <td>-122.417520</td>\n",
       "      <td>{'type': 'Point', 'coordinates': [-122.41752, ...</td>\n",
       "    </tr>\n",
       "    <tr>\n",
       "      <th>3</th>\n",
       "      <td>60216908a8847ab9f63b690f</td>\n",
       "      <td>C5 Children's School</td>\n",
       "      <td>37.778864</td>\n",
       "      <td>-122.414584</td>\n",
       "      <td>{'type': 'Point', 'coordinates': [-122.4145837...</td>\n",
       "    </tr>\n",
       "    <tr>\n",
       "      <th>4</th>\n",
       "      <td>6021695fa8847ab9f63b691b</td>\n",
       "      <td>Ananda Fuara</td>\n",
       "      <td>37.777693</td>\n",
       "      <td>-122.416353</td>\n",
       "      <td>{'type': 'Point', 'coordinates': [-122.4163533...</td>\n",
       "    </tr>\n",
       "    <tr>\n",
       "      <th>5</th>\n",
       "      <td>60216999a8847ab9f63b6953</td>\n",
       "      <td>Verso</td>\n",
       "      <td>37.773753</td>\n",
       "      <td>-122.417380</td>\n",
       "      <td>{'type': 'Point', 'coordinates': [-122.4173799...</td>\n",
       "    </tr>\n",
       "    <tr>\n",
       "      <th>6</th>\n",
       "      <td>60216787a8847ab9f63b68fd</td>\n",
       "      <td>San Francisco International Airport (SFO) (San...</td>\n",
       "      <td>37.616713</td>\n",
       "      <td>-122.387094</td>\n",
       "      <td>{'type': 'Point', 'coordinates': [-122.3870944...</td>\n",
       "    </tr>\n",
       "  </tbody>\n",
       "</table>\n",
       "</div>"
      ],
      "text/plain": [
       "                        _id  \\\n",
       "0  602161afa8847ab9f63b68df   \n",
       "1  60216787a8847ab9f63b68fd   \n",
       "2  602168baa8847ab9f63b68fe   \n",
       "3  60216908a8847ab9f63b690f   \n",
       "4  6021695fa8847ab9f63b691b   \n",
       "5  60216999a8847ab9f63b6953   \n",
       "6  60216787a8847ab9f63b68fd   \n",
       "\n",
       "                                                name    latitud    longitud  \\\n",
       "0                                          Starbucks  37.777090 -122.417298   \n",
       "1  San Francisco International Airport (SFO) (San...  37.616713 -122.387094   \n",
       "2                              VCA All Pets Hospital  37.768920 -122.417520   \n",
       "3                               C5 Children's School  37.778864 -122.414584   \n",
       "4                                       Ananda Fuara  37.777693 -122.416353   \n",
       "5                                              Verso  37.773753 -122.417380   \n",
       "6  San Francisco International Airport (SFO) (San...  37.616713 -122.387094   \n",
       "\n",
       "                                            geometry  \n",
       "0  {'type': 'Point', 'coordinates': [-122.4172976...  \n",
       "1  {'type': 'Point', 'coordinates': [-122.3870944...  \n",
       "2  {'type': 'Point', 'coordinates': [-122.41752, ...  \n",
       "3  {'type': 'Point', 'coordinates': [-122.4145837...  \n",
       "4  {'type': 'Point', 'coordinates': [-122.4163533...  \n",
       "5  {'type': 'Point', 'coordinates': [-122.4173799...  \n",
       "6  {'type': 'Point', 'coordinates': [-122.3870944...  "
      ]
     },
     "execution_count": 12,
     "metadata": {},
     "output_type": "execute_result"
    }
   ],
   "source": [
    "loc1_df = pd.DataFrame(loc1_list)\n",
    "loc1_df"
   ]
  },
  {
   "cell_type": "code",
   "execution_count": 13,
   "id": "dried-purpose",
   "metadata": {},
   "outputs": [],
   "source": [
    "loc1_df.to_csv(\"data/loc1_nearest_requirements.csv\")"
   ]
  },
  {
   "cell_type": "markdown",
   "id": "stone-reggae",
   "metadata": {},
   "source": [
    "## Looking for the nearest services in \"2nd with Bryan Street\""
   ]
  },
  {
   "cell_type": "code",
   "execution_count": 14,
   "id": "exact-atlantic",
   "metadata": {},
   "outputs": [],
   "source": [
    "loc2 = [-122.3936295, 37.7832303]\n",
    "loc2_list = []"
   ]
  },
  {
   "cell_type": "code",
   "execution_count": 15,
   "id": "spoken-convention",
   "metadata": {},
   "outputs": [
    {
     "name": "stdout",
     "output_type": "stream",
     "text": [
      "{'_id': ObjectId('602161afa8847ab9f63b68dc'), 'name': 'Starbucks', 'latitud': 37.78578235753868, 'longitud': -122.39668675186688, 'geometry': {'type': 'Point', 'coordinates': [-122.39668675186688, 37.78578235753868]}}\n"
     ]
    }
   ],
   "source": [
    "# Nearest Starbucks\n",
    "nearest = db.starbucks.find({\"geometry\":{\"$near\":{\"type\":\"Point\", \"coordinates\":loc2}}})\n",
    "x = list(nearest)[0]\n",
    "print(x)\n",
    "loc2_list.append(x)"
   ]
  },
  {
   "cell_type": "code",
   "execution_count": 16,
   "id": "french-excitement",
   "metadata": {},
   "outputs": [
    {
     "name": "stdout",
     "output_type": "stream",
     "text": [
      "{'_id': ObjectId('60216787a8847ab9f63b68fd'), 'name': 'San Francisco International Airport (SFO) (San Francisco International Airport)', 'latitud': 37.6167130000997, 'longitud': -122.38709449768066, 'geometry': {'type': 'Point', 'coordinates': [-122.38709449768066, 37.6167130000997]}}\n"
     ]
    }
   ],
   "source": [
    "# Nearest airport\n",
    "nearest = db.airports.find({\"geometry\":{\"$near\":{\"type\":\"Point\", \"coordinates\":loc2}}})\n",
    "x = list(nearest)[0]\n",
    "print(x)\n",
    "loc2_list.append(x)"
   ]
  },
  {
   "cell_type": "code",
   "execution_count": 17,
   "id": "stainless-accreditation",
   "metadata": {},
   "outputs": [
    {
     "name": "stdout",
     "output_type": "stream",
     "text": [
      "{'_id': ObjectId('602168baa8847ab9f63b6901'), 'name': 'San Francisco SPCA Veterinary Hospital', 'latitud': 37.766633450405465, 'longitud': -122.41214303998395, 'geometry': {'type': 'Point', 'coordinates': [-122.41214303998395, 37.766633450405465]}}\n"
     ]
    }
   ],
   "source": [
    "# Nearest Vet for Dobby\n",
    "nearest = db.vet.find({\"geometry\":{\"$near\":{\"type\":\"Point\", \"coordinates\":loc2}}})\n",
    "x = list(nearest)[0]\n",
    "print(x)\n",
    "loc2_list.append(x)"
   ]
  },
  {
   "cell_type": "code",
   "execution_count": 18,
   "id": "tough-sociology",
   "metadata": {},
   "outputs": [
    {
     "name": "stdout",
     "output_type": "stream",
     "text": [
      "{'_id': ObjectId('60216908a8847ab9f63b6911'), 'name': 'Universal Education', 'latitud': 37.7900465, 'longitud': -122.4008744, 'geometry': {'type': 'Point', 'coordinates': [-122.4008744, 37.7900465]}}\n"
     ]
    }
   ],
   "source": [
    "# Nearest schools\n",
    "nearest = db.schools.find({\"geometry\":{\"$near\":{\"type\":\"Point\", \"coordinates\":loc2}}})\n",
    "x = list(nearest)[0]\n",
    "print(x)\n",
    "loc2_list.append(x)"
   ]
  },
  {
   "cell_type": "code",
   "execution_count": 19,
   "id": "extensive-analysis",
   "metadata": {
    "scrolled": true
   },
   "outputs": [
    {
     "name": "stdout",
     "output_type": "stream",
     "text": [
      "{'_id': ObjectId('6021695fa8847ab9f63b691e'), 'name': 'sweetgreen', 'latitud': 37.7872625, 'longitud': -122.3986346, 'geometry': {'type': 'Point', 'coordinates': [-122.3986346, 37.7872625]}}\n"
     ]
    }
   ],
   "source": [
    "# Nearest vegan restaurants\n",
    "nearest = db.vegan.find({\"geometry\":{\"$near\":{\"type\":\"Point\", \"coordinates\":loc2}}})\n",
    "x = list(nearest)[0]\n",
    "print(x)\n",
    "loc2_list.append(x)"
   ]
  },
  {
   "cell_type": "code",
   "execution_count": 20,
   "id": "severe-assumption",
   "metadata": {},
   "outputs": [
    {
     "name": "stdout",
     "output_type": "stream",
     "text": [
      "{'_id': ObjectId('60216999a8847ab9f63b6944'), 'name': 'City Nights', 'latitud': 37.7820910906291, 'longitud': -122.39756969521922, 'geometry': {'type': 'Point', 'coordinates': [-122.39756969521922, 37.7820910906291]}}\n"
     ]
    }
   ],
   "source": [
    "# Nearest nightclubs\n",
    "nearest = db.party.find({\"geometry\":{\"$near\":{\"type\":\"Point\", \"coordinates\":loc2}}})\n",
    "x = list(nearest)[0]\n",
    "print(x)\n",
    "loc2_list.append(x)"
   ]
  },
  {
   "cell_type": "code",
   "execution_count": 21,
   "id": "acting-subdivision",
   "metadata": {},
   "outputs": [
    {
     "name": "stdout",
     "output_type": "stream",
     "text": [
      "{'_id': ObjectId('60216787a8847ab9f63b68fd'), 'name': 'San Francisco International Airport (SFO) (San Francisco International Airport)', 'latitud': 37.6167130000997, 'longitud': -122.38709449768066, 'geometry': {'type': 'Point', 'coordinates': [-122.38709449768066, 37.6167130000997]}}\n"
     ]
    }
   ],
   "source": [
    "# Nearest basketball stadium\n",
    "nearest = db.basket_stadiums# Nearest airport\n",
    "nearest = db.airports.find({\"geometry\":{\"$near\":{\"type\":\"Point\", \"coordinates\":loc2}}})\n",
    "x = list(nearest)[0]\n",
    "print(x)\n",
    "loc2_list.append(x)"
   ]
  },
  {
   "cell_type": "code",
   "execution_count": 22,
   "id": "understanding-entertainment",
   "metadata": {
    "scrolled": true
   },
   "outputs": [
    {
     "data": {
      "text/html": [
       "<div>\n",
       "<style scoped>\n",
       "    .dataframe tbody tr th:only-of-type {\n",
       "        vertical-align: middle;\n",
       "    }\n",
       "\n",
       "    .dataframe tbody tr th {\n",
       "        vertical-align: top;\n",
       "    }\n",
       "\n",
       "    .dataframe thead th {\n",
       "        text-align: right;\n",
       "    }\n",
       "</style>\n",
       "<table border=\"1\" class=\"dataframe\">\n",
       "  <thead>\n",
       "    <tr style=\"text-align: right;\">\n",
       "      <th></th>\n",
       "      <th>_id</th>\n",
       "      <th>name</th>\n",
       "      <th>latitud</th>\n",
       "      <th>longitud</th>\n",
       "      <th>geometry</th>\n",
       "    </tr>\n",
       "  </thead>\n",
       "  <tbody>\n",
       "    <tr>\n",
       "      <th>0</th>\n",
       "      <td>602161afa8847ab9f63b68df</td>\n",
       "      <td>Starbucks</td>\n",
       "      <td>37.777090</td>\n",
       "      <td>-122.417298</td>\n",
       "      <td>{'type': 'Point', 'coordinates': [-122.4172976...</td>\n",
       "    </tr>\n",
       "    <tr>\n",
       "      <th>1</th>\n",
       "      <td>60216787a8847ab9f63b68fd</td>\n",
       "      <td>San Francisco International Airport (SFO) (San...</td>\n",
       "      <td>37.616713</td>\n",
       "      <td>-122.387094</td>\n",
       "      <td>{'type': 'Point', 'coordinates': [-122.3870944...</td>\n",
       "    </tr>\n",
       "    <tr>\n",
       "      <th>2</th>\n",
       "      <td>602168baa8847ab9f63b68fe</td>\n",
       "      <td>VCA All Pets Hospital</td>\n",
       "      <td>37.768920</td>\n",
       "      <td>-122.417520</td>\n",
       "      <td>{'type': 'Point', 'coordinates': [-122.41752, ...</td>\n",
       "    </tr>\n",
       "    <tr>\n",
       "      <th>3</th>\n",
       "      <td>60216908a8847ab9f63b690f</td>\n",
       "      <td>C5 Children's School</td>\n",
       "      <td>37.778864</td>\n",
       "      <td>-122.414584</td>\n",
       "      <td>{'type': 'Point', 'coordinates': [-122.4145837...</td>\n",
       "    </tr>\n",
       "    <tr>\n",
       "      <th>4</th>\n",
       "      <td>6021695fa8847ab9f63b691b</td>\n",
       "      <td>Ananda Fuara</td>\n",
       "      <td>37.777693</td>\n",
       "      <td>-122.416353</td>\n",
       "      <td>{'type': 'Point', 'coordinates': [-122.4163533...</td>\n",
       "    </tr>\n",
       "    <tr>\n",
       "      <th>5</th>\n",
       "      <td>60216999a8847ab9f63b6953</td>\n",
       "      <td>Verso</td>\n",
       "      <td>37.773753</td>\n",
       "      <td>-122.417380</td>\n",
       "      <td>{'type': 'Point', 'coordinates': [-122.4173799...</td>\n",
       "    </tr>\n",
       "    <tr>\n",
       "      <th>6</th>\n",
       "      <td>60216787a8847ab9f63b68fd</td>\n",
       "      <td>San Francisco International Airport (SFO) (San...</td>\n",
       "      <td>37.616713</td>\n",
       "      <td>-122.387094</td>\n",
       "      <td>{'type': 'Point', 'coordinates': [-122.3870944...</td>\n",
       "    </tr>\n",
       "  </tbody>\n",
       "</table>\n",
       "</div>"
      ],
      "text/plain": [
       "                        _id  \\\n",
       "0  602161afa8847ab9f63b68df   \n",
       "1  60216787a8847ab9f63b68fd   \n",
       "2  602168baa8847ab9f63b68fe   \n",
       "3  60216908a8847ab9f63b690f   \n",
       "4  6021695fa8847ab9f63b691b   \n",
       "5  60216999a8847ab9f63b6953   \n",
       "6  60216787a8847ab9f63b68fd   \n",
       "\n",
       "                                                name    latitud    longitud  \\\n",
       "0                                          Starbucks  37.777090 -122.417298   \n",
       "1  San Francisco International Airport (SFO) (San...  37.616713 -122.387094   \n",
       "2                              VCA All Pets Hospital  37.768920 -122.417520   \n",
       "3                               C5 Children's School  37.778864 -122.414584   \n",
       "4                                       Ananda Fuara  37.777693 -122.416353   \n",
       "5                                              Verso  37.773753 -122.417380   \n",
       "6  San Francisco International Airport (SFO) (San...  37.616713 -122.387094   \n",
       "\n",
       "                                            geometry  \n",
       "0  {'type': 'Point', 'coordinates': [-122.4172976...  \n",
       "1  {'type': 'Point', 'coordinates': [-122.3870944...  \n",
       "2  {'type': 'Point', 'coordinates': [-122.41752, ...  \n",
       "3  {'type': 'Point', 'coordinates': [-122.4145837...  \n",
       "4  {'type': 'Point', 'coordinates': [-122.4163533...  \n",
       "5  {'type': 'Point', 'coordinates': [-122.4173799...  \n",
       "6  {'type': 'Point', 'coordinates': [-122.3870944...  "
      ]
     },
     "execution_count": 22,
     "metadata": {},
     "output_type": "execute_result"
    }
   ],
   "source": [
    "loc2_df = pd.DataFrame(loc1_list)\n",
    "loc2_df"
   ]
  },
  {
   "cell_type": "code",
   "execution_count": 23,
   "id": "introductory-cookie",
   "metadata": {},
   "outputs": [],
   "source": [
    "loc2_df.to_csv(\"data/loc2_nearest_requirements.csv\")"
   ]
  },
  {
   "cell_type": "markdown",
   "id": "filled-commercial",
   "metadata": {},
   "source": [
    "## Looking for the nearest services near \"Montgomery St. Station\""
   ]
  },
  {
   "cell_type": "code",
   "execution_count": 24,
   "id": "spread-paintball",
   "metadata": {},
   "outputs": [],
   "source": [
    "loc3 = [-122.4009011, 37.7887223]\n",
    "loc3_list = []"
   ]
  },
  {
   "cell_type": "code",
   "execution_count": 25,
   "id": "tutorial-granny",
   "metadata": {},
   "outputs": [
    {
     "name": "stdout",
     "output_type": "stream",
     "text": [
      "{'_id': ObjectId('602161afa8847ab9f63b68d9'), 'name': 'Starbucks', 'latitud': 37.788791650635936, 'longitud': -122.40071024847565, 'geometry': {'type': 'Point', 'coordinates': [-122.40071024847565, 37.788791650635936]}}\n"
     ]
    }
   ],
   "source": [
    "# Nearest Starbucks\n",
    "nearest = db.starbucks.find({\"geometry\":{\"$near\":{\"type\":\"Point\", \"coordinates\":loc3}}})\n",
    "x = list(nearest)[0]\n",
    "print(x)\n",
    "loc3_list.append(x)"
   ]
  },
  {
   "cell_type": "code",
   "execution_count": 26,
   "id": "functional-ottawa",
   "metadata": {},
   "outputs": [
    {
     "name": "stdout",
     "output_type": "stream",
     "text": [
      "{'_id': ObjectId('60216787a8847ab9f63b68fd'), 'name': 'San Francisco International Airport (SFO) (San Francisco International Airport)', 'latitud': 37.6167130000997, 'longitud': -122.38709449768066, 'geometry': {'type': 'Point', 'coordinates': [-122.38709449768066, 37.6167130000997]}}\n"
     ]
    }
   ],
   "source": [
    "# Nearest airport\n",
    "nearest = db.airports.find({\"geometry\":{\"$near\":{\"type\":\"Point\", \"coordinates\":loc3}}})\n",
    "x = list(nearest)[0]\n",
    "print(x)\n",
    "loc3_list.append(x)"
   ]
  },
  {
   "cell_type": "code",
   "execution_count": 27,
   "id": "professional-whale",
   "metadata": {},
   "outputs": [
    {
     "name": "stdout",
     "output_type": "stream",
     "text": [
      "{'_id': ObjectId('602168baa8847ab9f63b68fe'), 'name': 'VCA All Pets Hospital', 'latitud': 37.76892, 'longitud': -122.41752, 'geometry': {'type': 'Point', 'coordinates': [-122.41752, 37.76892]}}\n"
     ]
    }
   ],
   "source": [
    "# Nearest Vet for Dobby\n",
    "nearest = db.vet.find({\"geometry\":{\"$near\":{\"type\":\"Point\", \"coordinates\":loc3}}})\n",
    "x = list(nearest)[0]\n",
    "print(x)\n",
    "loc3_list.append(x)"
   ]
  },
  {
   "cell_type": "code",
   "execution_count": 28,
   "id": "major-wisdom",
   "metadata": {},
   "outputs": [
    {
     "name": "stdout",
     "output_type": "stream",
     "text": [
      "{'_id': ObjectId('60216908a8847ab9f63b6911'), 'name': 'Universal Education', 'latitud': 37.7900465, 'longitud': -122.4008744, 'geometry': {'type': 'Point', 'coordinates': [-122.4008744, 37.7900465]}}\n"
     ]
    }
   ],
   "source": [
    "# Nearest schools\n",
    "nearest = db.schools.find({\"geometry\":{\"$near\":{\"type\":\"Point\", \"coordinates\":loc3}}})\n",
    "x = list(nearest)[0]\n",
    "print(x)\n",
    "loc3_list.append(x)"
   ]
  },
  {
   "cell_type": "code",
   "execution_count": 29,
   "id": "behavioral-twins",
   "metadata": {
    "scrolled": true
   },
   "outputs": [
    {
     "name": "stdout",
     "output_type": "stream",
     "text": [
      "{'_id': ObjectId('6021695fa8847ab9f63b692a'), 'name': 'Sunrise Deli', 'latitud': 37.78861080016589, 'longitud': -122.40053225084378, 'geometry': {'type': 'Point', 'coordinates': [-122.40053225084378, 37.78861080016589]}}\n"
     ]
    }
   ],
   "source": [
    "# Nearest vegan restaurants\n",
    "nearest = db.vegan.find({\"geometry\":{\"$near\":{\"type\":\"Point\", \"coordinates\":loc3}}})\n",
    "x = list(nearest)[0]\n",
    "print(x)\n",
    "loc3_list.append(x)"
   ]
  },
  {
   "cell_type": "code",
   "execution_count": 30,
   "id": "focal-netherlands",
   "metadata": {},
   "outputs": [
    {
     "name": "stdout",
     "output_type": "stream",
     "text": [
      "{'_id': ObjectId('60216999a8847ab9f63b694b'), 'name': '111 Minna Gallery', 'latitud': 37.78748829404249, 'longitud': -122.39927412205256, 'geometry': {'type': 'Point', 'coordinates': [-122.39927412205256, 37.78748829404249]}}\n"
     ]
    }
   ],
   "source": [
    "# Nearest nightclubs\n",
    "nearest = db.party.find({\"geometry\":{\"$near\":{\"type\":\"Point\", \"coordinates\":loc3}}})\n",
    "x = list(nearest)[0]\n",
    "print(x)\n",
    "loc3_list.append(x)"
   ]
  },
  {
   "cell_type": "code",
   "execution_count": 31,
   "id": "suffering-horizontal",
   "metadata": {},
   "outputs": [
    {
     "name": "stdout",
     "output_type": "stream",
     "text": [
      "{'_id': ObjectId('60216787a8847ab9f63b68fd'), 'name': 'San Francisco International Airport (SFO) (San Francisco International Airport)', 'latitud': 37.6167130000997, 'longitud': -122.38709449768066, 'geometry': {'type': 'Point', 'coordinates': [-122.38709449768066, 37.6167130000997]}}\n"
     ]
    }
   ],
   "source": [
    "# Nearest basketball stadium\n",
    "nearest = db.basket_stadiums# Nearest airport\n",
    "nearest = db.airports.find({\"geometry\":{\"$near\":{\"type\":\"Point\", \"coordinates\":loc3}}})\n",
    "x = list(nearest)[0]\n",
    "print(x)\n",
    "loc3_list.append(x)"
   ]
  },
  {
   "cell_type": "code",
   "execution_count": 32,
   "id": "foreign-heather",
   "metadata": {
    "scrolled": true
   },
   "outputs": [
    {
     "data": {
      "text/html": [
       "<div>\n",
       "<style scoped>\n",
       "    .dataframe tbody tr th:only-of-type {\n",
       "        vertical-align: middle;\n",
       "    }\n",
       "\n",
       "    .dataframe tbody tr th {\n",
       "        vertical-align: top;\n",
       "    }\n",
       "\n",
       "    .dataframe thead th {\n",
       "        text-align: right;\n",
       "    }\n",
       "</style>\n",
       "<table border=\"1\" class=\"dataframe\">\n",
       "  <thead>\n",
       "    <tr style=\"text-align: right;\">\n",
       "      <th></th>\n",
       "      <th>_id</th>\n",
       "      <th>name</th>\n",
       "      <th>latitud</th>\n",
       "      <th>longitud</th>\n",
       "      <th>geometry</th>\n",
       "    </tr>\n",
       "  </thead>\n",
       "  <tbody>\n",
       "    <tr>\n",
       "      <th>0</th>\n",
       "      <td>602161afa8847ab9f63b68df</td>\n",
       "      <td>Starbucks</td>\n",
       "      <td>37.777090</td>\n",
       "      <td>-122.417298</td>\n",
       "      <td>{'type': 'Point', 'coordinates': [-122.4172976...</td>\n",
       "    </tr>\n",
       "    <tr>\n",
       "      <th>1</th>\n",
       "      <td>60216787a8847ab9f63b68fd</td>\n",
       "      <td>San Francisco International Airport (SFO) (San...</td>\n",
       "      <td>37.616713</td>\n",
       "      <td>-122.387094</td>\n",
       "      <td>{'type': 'Point', 'coordinates': [-122.3870944...</td>\n",
       "    </tr>\n",
       "    <tr>\n",
       "      <th>2</th>\n",
       "      <td>602168baa8847ab9f63b68fe</td>\n",
       "      <td>VCA All Pets Hospital</td>\n",
       "      <td>37.768920</td>\n",
       "      <td>-122.417520</td>\n",
       "      <td>{'type': 'Point', 'coordinates': [-122.41752, ...</td>\n",
       "    </tr>\n",
       "    <tr>\n",
       "      <th>3</th>\n",
       "      <td>60216908a8847ab9f63b690f</td>\n",
       "      <td>C5 Children's School</td>\n",
       "      <td>37.778864</td>\n",
       "      <td>-122.414584</td>\n",
       "      <td>{'type': 'Point', 'coordinates': [-122.4145837...</td>\n",
       "    </tr>\n",
       "    <tr>\n",
       "      <th>4</th>\n",
       "      <td>6021695fa8847ab9f63b691b</td>\n",
       "      <td>Ananda Fuara</td>\n",
       "      <td>37.777693</td>\n",
       "      <td>-122.416353</td>\n",
       "      <td>{'type': 'Point', 'coordinates': [-122.4163533...</td>\n",
       "    </tr>\n",
       "    <tr>\n",
       "      <th>5</th>\n",
       "      <td>60216999a8847ab9f63b6953</td>\n",
       "      <td>Verso</td>\n",
       "      <td>37.773753</td>\n",
       "      <td>-122.417380</td>\n",
       "      <td>{'type': 'Point', 'coordinates': [-122.4173799...</td>\n",
       "    </tr>\n",
       "    <tr>\n",
       "      <th>6</th>\n",
       "      <td>60216787a8847ab9f63b68fd</td>\n",
       "      <td>San Francisco International Airport (SFO) (San...</td>\n",
       "      <td>37.616713</td>\n",
       "      <td>-122.387094</td>\n",
       "      <td>{'type': 'Point', 'coordinates': [-122.3870944...</td>\n",
       "    </tr>\n",
       "  </tbody>\n",
       "</table>\n",
       "</div>"
      ],
      "text/plain": [
       "                        _id  \\\n",
       "0  602161afa8847ab9f63b68df   \n",
       "1  60216787a8847ab9f63b68fd   \n",
       "2  602168baa8847ab9f63b68fe   \n",
       "3  60216908a8847ab9f63b690f   \n",
       "4  6021695fa8847ab9f63b691b   \n",
       "5  60216999a8847ab9f63b6953   \n",
       "6  60216787a8847ab9f63b68fd   \n",
       "\n",
       "                                                name    latitud    longitud  \\\n",
       "0                                          Starbucks  37.777090 -122.417298   \n",
       "1  San Francisco International Airport (SFO) (San...  37.616713 -122.387094   \n",
       "2                              VCA All Pets Hospital  37.768920 -122.417520   \n",
       "3                               C5 Children's School  37.778864 -122.414584   \n",
       "4                                       Ananda Fuara  37.777693 -122.416353   \n",
       "5                                              Verso  37.773753 -122.417380   \n",
       "6  San Francisco International Airport (SFO) (San...  37.616713 -122.387094   \n",
       "\n",
       "                                            geometry  \n",
       "0  {'type': 'Point', 'coordinates': [-122.4172976...  \n",
       "1  {'type': 'Point', 'coordinates': [-122.3870944...  \n",
       "2  {'type': 'Point', 'coordinates': [-122.41752, ...  \n",
       "3  {'type': 'Point', 'coordinates': [-122.4145837...  \n",
       "4  {'type': 'Point', 'coordinates': [-122.4163533...  \n",
       "5  {'type': 'Point', 'coordinates': [-122.4173799...  \n",
       "6  {'type': 'Point', 'coordinates': [-122.3870944...  "
      ]
     },
     "execution_count": 32,
     "metadata": {},
     "output_type": "execute_result"
    }
   ],
   "source": [
    "loc3_df = pd.DataFrame(loc1_list)\n",
    "loc3_df"
   ]
  },
  {
   "cell_type": "code",
   "execution_count": 33,
   "id": "ordinary-processing",
   "metadata": {},
   "outputs": [],
   "source": [
    "loc3_df.to_csv(\"data/loc3_nearest_requirements.csv\")"
   ]
  },
  {
   "cell_type": "code",
   "execution_count": null,
   "id": "breathing-daisy",
   "metadata": {},
   "outputs": [],
   "source": [
    "'''**distances**\n",
    "import json\n",
    "from bson.json_util import dumps\n",
    "query =[{'$geonear':{'near':loc1,\n",
    "                    'distanceField': \"distance\",\n",
    "                    'maxDistance':15000,\n",
    "                    'distanceMultiplier': 6371,\n",
    "                    'spherical':True}}]\n",
    "nearest2 = db.starbucks.aggregate({\"geometry\":{'$geonear':{'near':loc1,\n",
    "                                                           'distanceField': \"distance\",\n",
    "                                                           'maxDistance':15000,\n",
    "                                                           'distanceMultiplier': 6371,\n",
    "                                                           'spherical':True}}})\n",
    "\n",
    "response_json = json.loads(dumps(geoloc))'''"
   ]
  }
 ],
 "metadata": {
  "kernelspec": {
   "display_name": "Python 3",
   "language": "python",
   "name": "python3"
  },
  "language_info": {
   "codemirror_mode": {
    "name": "ipython",
    "version": 3
   },
   "file_extension": ".py",
   "mimetype": "text/x-python",
   "name": "python",
   "nbconvert_exporter": "python",
   "pygments_lexer": "ipython3",
   "version": "3.8.5"
  },
  "toc": {
   "base_numbering": 1,
   "nav_menu": {},
   "number_sections": true,
   "sideBar": true,
   "skip_h1_title": true,
   "title_cell": "Table of Contents",
   "title_sidebar": "Contents",
   "toc_cell": false,
   "toc_position": {},
   "toc_section_display": true,
   "toc_window_display": false
  },
  "varInspector": {
   "cols": {
    "lenName": 16,
    "lenType": 16,
    "lenVar": 40
   },
   "kernels_config": {
    "python": {
     "delete_cmd_postfix": "",
     "delete_cmd_prefix": "del ",
     "library": "var_list.py",
     "varRefreshCmd": "print(var_dic_list())"
    },
    "r": {
     "delete_cmd_postfix": ") ",
     "delete_cmd_prefix": "rm(",
     "library": "var_list.r",
     "varRefreshCmd": "cat(var_dic_list()) "
    }
   },
   "types_to_exclude": [
    "module",
    "function",
    "builtin_function_or_method",
    "instance",
    "_Feature"
   ],
   "window_display": false
  }
 },
 "nbformat": 4,
 "nbformat_minor": 5
}
